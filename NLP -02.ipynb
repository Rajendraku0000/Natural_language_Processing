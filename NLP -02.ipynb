{
 "cells": [
  {
   "cell_type": "markdown",
   "id": "659b52aa",
   "metadata": {},
   "source": [
    "# Text Representation "
   ]
  },
  {
   "cell_type": "code",
   "execution_count": 1,
   "id": "a75c743c",
   "metadata": {},
   "outputs": [],
   "source": [
    "# 1. Bag of words \n",
    "# we use countvectorization "
   ]
  },
  {
   "cell_type": "code",
   "execution_count": 2,
   "id": "9d134680",
   "metadata": {},
   "outputs": [],
   "source": [
    "import numpy as np \n",
    "import pandas as pd "
   ]
  },
  {
   "cell_type": "code",
   "execution_count": 3,
   "id": "8978975a",
   "metadata": {},
   "outputs": [],
   "source": [
    "df = pd.DataFrame({'text':['people watch cricket' , 'player was player' , 'people write comment' , 'cricket play comment' ] , 'output':[1,1,0,0]})"
   ]
  },
  {
   "cell_type": "code",
   "execution_count": 4,
   "id": "4dba6219",
   "metadata": {},
   "outputs": [
    {
     "data": {
      "text/html": [
       "<div>\n",
       "<style scoped>\n",
       "    .dataframe tbody tr th:only-of-type {\n",
       "        vertical-align: middle;\n",
       "    }\n",
       "\n",
       "    .dataframe tbody tr th {\n",
       "        vertical-align: top;\n",
       "    }\n",
       "\n",
       "    .dataframe thead th {\n",
       "        text-align: right;\n",
       "    }\n",
       "</style>\n",
       "<table border=\"1\" class=\"dataframe\">\n",
       "  <thead>\n",
       "    <tr style=\"text-align: right;\">\n",
       "      <th></th>\n",
       "      <th>text</th>\n",
       "      <th>output</th>\n",
       "    </tr>\n",
       "  </thead>\n",
       "  <tbody>\n",
       "    <tr>\n",
       "      <th>0</th>\n",
       "      <td>people watch cricket</td>\n",
       "      <td>1</td>\n",
       "    </tr>\n",
       "    <tr>\n",
       "      <th>1</th>\n",
       "      <td>player was player</td>\n",
       "      <td>1</td>\n",
       "    </tr>\n",
       "    <tr>\n",
       "      <th>2</th>\n",
       "      <td>people write comment</td>\n",
       "      <td>0</td>\n",
       "    </tr>\n",
       "    <tr>\n",
       "      <th>3</th>\n",
       "      <td>cricket play comment</td>\n",
       "      <td>0</td>\n",
       "    </tr>\n",
       "  </tbody>\n",
       "</table>\n",
       "</div>"
      ],
      "text/plain": [
       "                   text  output\n",
       "0  people watch cricket       1\n",
       "1     player was player       1\n",
       "2  people write comment       0\n",
       "3  cricket play comment       0"
      ]
     },
     "execution_count": 4,
     "metadata": {},
     "output_type": "execute_result"
    }
   ],
   "source": [
    "df"
   ]
  },
  {
   "cell_type": "code",
   "execution_count": 5,
   "id": "546af76d",
   "metadata": {},
   "outputs": [],
   "source": [
    "from sklearn.feature_extraction.text import CountVectorizer "
   ]
  },
  {
   "cell_type": "code",
   "execution_count": 6,
   "id": "42c290ba",
   "metadata": {},
   "outputs": [],
   "source": [
    "cv = CountVectorizer() "
   ]
  },
  {
   "cell_type": "code",
   "execution_count": 7,
   "id": "e01ec664",
   "metadata": {},
   "outputs": [],
   "source": [
    "bow = cv.fit_transform(df['text'])"
   ]
  },
  {
   "cell_type": "code",
   "execution_count": 8,
   "id": "581f57e7",
   "metadata": {},
   "outputs": [
    {
     "name": "stdout",
     "output_type": "stream",
     "text": [
      "{'people': 2, 'watch': 6, 'cricket': 1, 'player': 4, 'was': 5, 'write': 7, 'comment': 0, 'play': 3}\n"
     ]
    }
   ],
   "source": [
    "# vocab \n",
    "print(cv.vocabulary_)"
   ]
  },
  {
   "cell_type": "code",
   "execution_count": 9,
   "id": "cd3b1f38",
   "metadata": {},
   "outputs": [
    {
     "name": "stdout",
     "output_type": "stream",
     "text": [
      "[[0 1 1 0 0 0 1 0]]\n",
      "[[0 0 0 0 2 1 0 0]]\n"
     ]
    }
   ],
   "source": [
    "print(bow[0].toarray()) \n",
    "print(bow[1].toarray())"
   ]
  },
  {
   "cell_type": "code",
   "execution_count": 10,
   "id": "49df6643",
   "metadata": {},
   "outputs": [
    {
     "data": {
      "text/plain": [
       "array([[2, 2, 0, 0, 0, 0, 1, 1]], dtype=int64)"
      ]
     },
     "execution_count": 10,
     "metadata": {},
     "output_type": "execute_result"
    }
   ],
   "source": [
    "cv.transform([\"cricket watch and write comment of cricket comment\"]).toarray()"
   ]
  },
  {
   "cell_type": "code",
   "execution_count": 11,
   "id": "56c9aac8",
   "metadata": {},
   "outputs": [],
   "source": [
    "# 2.N-grams"
   ]
  },
  {
   "cell_type": "code",
   "execution_count": 12,
   "id": "6a103e62",
   "metadata": {},
   "outputs": [],
   "source": [
    "# cv = CountVectorizer(ngram_range(2,2))"
   ]
  },
  {
   "cell_type": "code",
   "execution_count": 13,
   "id": "668dfbea",
   "metadata": {},
   "outputs": [],
   "source": [
    "v = CountVectorizer(ngram_range=(1, 2))\n",
    "# v = CountVectorizer(ngram_range=(2, 2))"
   ]
  },
  {
   "cell_type": "code",
   "execution_count": 14,
   "id": "86556bdf",
   "metadata": {},
   "outputs": [],
   "source": [
    "bow =  v.fit_transform(df['text'])"
   ]
  },
  {
   "cell_type": "code",
   "execution_count": 15,
   "id": "f313a1fb",
   "metadata": {},
   "outputs": [
    {
     "data": {
      "text/plain": [
       "0    people watch cricket\n",
       "1       player was player\n",
       "2    people write comment\n",
       "3    cricket play comment\n",
       "Name: text, dtype: object"
      ]
     },
     "execution_count": 15,
     "metadata": {},
     "output_type": "execute_result"
    }
   ],
   "source": [
    "df['text']"
   ]
  },
  {
   "cell_type": "code",
   "execution_count": 16,
   "id": "7c8ac1b3",
   "metadata": {},
   "outputs": [
    {
     "name": "stdout",
     "output_type": "stream",
     "text": [
      "{'people': 3, 'watch': 12, 'cricket': 1, 'people watch': 4, 'watch cricket': 13, 'player': 8, 'was': 10, 'player was': 9, 'was player': 11, 'write': 14, 'comment': 0, 'people write': 5, 'write comment': 15, 'play': 6, 'cricket play': 2, 'play comment': 7}\n"
     ]
    }
   ],
   "source": [
    "# vocab\n",
    "print(v.vocabulary_)"
   ]
  },
  {
   "cell_type": "code",
   "execution_count": 17,
   "id": "f77cb12d",
   "metadata": {},
   "outputs": [],
   "source": [
    "# TF(Term Frequencey) \n",
    "# 2. IDF(Inverse Document Frequencey)"
   ]
  },
  {
   "cell_type": "code",
   "execution_count": 18,
   "id": "4255f682",
   "metadata": {},
   "outputs": [],
   "source": [
    "# TF(t,d) = (Number of occurences of term t in document d)/(Total number of terms in the document d) \n",
    "\n",
    "# example ==>\n",
    "# d1 = people watch cricket . \n",
    "\n",
    "# tf(people,d1) = 1/3 \n",
    "\n",
    "# d2 = match was match. \n",
    "# tf(match , d2) = 2/3 "
   ]
  },
  {
   "cell_type": "code",
   "execution_count": 19,
   "id": "af65025f",
   "metadata": {},
   "outputs": [],
   "source": [
    "# IDF(t) = loge(Total number of documents in the corpus)/(Number of documents with term t in them) \n",
    "# here corpus means number of sentences\n",
    "\n",
    "# Example ==>\n",
    "# d1 = people watch cricket . \n",
    "# d2 = cricket was cricket . \n",
    "# d3 = people write comment .\n",
    "# d4 = cricket write comment . \n",
    "\n",
    "\n",
    "# idf(cricket) = log(4/4)\n",
    "# idf(people) = log(4/2) "
   ]
  },
  {
   "cell_type": "code",
   "execution_count": 20,
   "id": "f3388f19",
   "metadata": {},
   "outputs": [],
   "source": [
    "# we can use this by apply feature_extraction method in sklearn "
   ]
  },
  {
   "cell_type": "code",
   "execution_count": 25,
   "id": "4207046a",
   "metadata": {},
   "outputs": [
    {
     "name": "stdout",
     "output_type": "stream",
     "text": [
      "                   text  output\n",
      "0  people watch cricket       1\n",
      "1     player was player       1\n",
      "2  people write comment       0\n",
      "3  cricket play comment       0\n",
      "<class 'pandas.core.frame.DataFrame'>\n",
      "RangeIndex: 4 entries, 0 to 3\n",
      "Data columns (total 2 columns):\n",
      " #   Column  Non-Null Count  Dtype \n",
      "---  ------  --------------  ----- \n",
      " 0   text    4 non-null      object\n",
      " 1   output  4 non-null      int64 \n",
      "dtypes: int64(1), object(1)\n",
      "memory usage: 192.0+ bytes\n",
      "None\n"
     ]
    }
   ],
   "source": [
    "print(df)\n",
    "print(df.info())"
   ]
  },
  {
   "cell_type": "code",
   "execution_count": 22,
   "id": "c154d602",
   "metadata": {},
   "outputs": [
    {
     "data": {
      "text/plain": [
       "array([[0.        , 0.52640543, 0.52640543, 0.        , 0.        ,\n",
       "        0.        , 0.66767854, 0.        ],\n",
       "       [0.        , 0.        , 0.        , 0.        , 0.89442719,\n",
       "        0.4472136 , 0.        , 0.        ],\n",
       "       [0.52640543, 0.        , 0.52640543, 0.        , 0.        ,\n",
       "        0.        , 0.        , 0.66767854],\n",
       "       [0.52640543, 0.52640543, 0.        , 0.66767854, 0.        ,\n",
       "        0.        , 0.        , 0.        ]])"
      ]
     },
     "execution_count": 22,
     "metadata": {},
     "output_type": "execute_result"
    }
   ],
   "source": [
    "from sklearn.feature_extraction.text import TfidfVectorizer \n",
    "\n",
    "tfidf = TfidfVectorizer() \n",
    "tfidf.fit_transform(df['text']).toarray()"
   ]
  },
  {
   "cell_type": "code",
   "execution_count": 23,
   "id": "76098363",
   "metadata": {},
   "outputs": [
    {
     "name": "stdout",
     "output_type": "stream",
     "text": [
      "[1.51082562 1.51082562 1.51082562 1.91629073 1.91629073 1.91629073\n",
      " 1.91629073 1.91629073]\n",
      "['comment' 'cricket' 'people' 'play' 'player' 'was' 'watch' 'write']\n"
     ]
    }
   ],
   "source": [
    "print(tfidf.idf_)\n",
    "print(tfidf.get_feature_names_out())"
   ]
  },
  {
   "cell_type": "markdown",
   "id": "c1e303bd",
   "metadata": {},
   "source": [
    "# WordEmbedding"
   ]
  },
  {
   "cell_type": "markdown",
   "id": "556258aa",
   "metadata": {},
   "source": [
    "# In natural language preprocessing , word embedding is a term used for the representation of words for text analysis , typically in the form of a real-valued vector that encodes the meaning of the word such that the words that are closer in the vector space are expected to be similar in meaning . "
   ]
  },
  {
   "cell_type": "code",
   "execution_count": 24,
   "id": "491c452e",
   "metadata": {},
   "outputs": [],
   "source": [
    "# type of embeddings ==> 1. frequencey ==> Ex. bagofwords , tf , idf , glove(global veector) . \n",
    "# 2. prediction based embedding ==> word2vec "
   ]
  },
  {
   "cell_type": "markdown",
   "id": "c36ddcdf",
   "metadata": {},
   "source": [
    "# example ==> We will use the pre trained weights of word2vec that was trained on google new corpus containing 3 billion words. This model consists of 300-dimensional vectors for 3 million words and phrases. "
   ]
  },
  {
   "cell_type": "code",
   "execution_count": null,
   "id": "5d2b453b",
   "metadata": {},
   "outputs": [],
   "source": []
  }
 ],
 "metadata": {
  "kernelspec": {
   "display_name": "Python 3 (ipykernel)",
   "language": "python",
   "name": "python3"
  },
  "language_info": {
   "codemirror_mode": {
    "name": "ipython",
    "version": 3
   },
   "file_extension": ".py",
   "mimetype": "text/x-python",
   "name": "python",
   "nbconvert_exporter": "python",
   "pygments_lexer": "ipython3",
   "version": "3.10.9"
  }
 },
 "nbformat": 4,
 "nbformat_minor": 5
}
