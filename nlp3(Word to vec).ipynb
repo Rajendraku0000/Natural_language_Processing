{
 "cells": [
  {
   "cell_type": "code",
   "execution_count": 3,
   "id": "6d1e967c",
   "metadata": {},
   "outputs": [],
   "source": [
    "import numpy as np \n",
    "import pandas as pd "
   ]
  },
  {
   "cell_type": "code",
   "execution_count": null,
   "id": "9957b682",
   "metadata": {},
   "outputs": [],
   "source": []
  },
  {
   "cell_type": "code",
   "execution_count": null,
   "id": "069fe1ed",
   "metadata": {},
   "outputs": [],
   "source": [
    "# df = pd.read_csv(\"C:\\\\Users\\\\saurabh\\\\Desktop\\\\pyth\\\\gameofthrones\\\\firstdata.txt\")"
   ]
  },
  {
   "cell_type": "code",
   "execution_count": null,
   "id": "00de960d",
   "metadata": {},
   "outputs": [],
   "source": [
    "# !pip install gensim"
   ]
  },
  {
   "cell_type": "code",
   "execution_count": 4,
   "id": "b583ac1c",
   "metadata": {},
   "outputs": [],
   "source": [
    "import gensim \n",
    "import os "
   ]
  },
  {
   "cell_type": "markdown",
   "id": "e9552252",
   "metadata": {},
   "source": [
    "# Gensim : It is an open source library in python written by Radim Rehurek which is used in unsupervised topic modelling and natural language processing. It is designed to extract semantic topics from documents. It can handle large text collections."
   ]
  },
  {
   "cell_type": "code",
   "execution_count": 5,
   "id": "88bd0ec5",
   "metadata": {},
   "outputs": [],
   "source": [
    "from nltk import sent_tokenize \n",
    "from gensim.utils import simple_preprocess \n",
    "\n",
    "story = []\n",
    "for filename in os.listdir('C:\\\\Users\\\\rajen\\\\OneDrive\\\\Desktop\\\\data\\\\Gameofthoras'):\n",
    "    f = open(os.path.join(\"C:\\\\Users\\\\rajen\\\\OneDrive\\\\Desktop\\\\data\\\\Gameofthoras\" , filename)) \n",
    "    corpus = f.read() \n",
    "    raw_sent = sent_tokenize(corpus) \n",
    "    for sent in raw_sent :\n",
    "        story.append(simple_preprocess(sent)) \n",
    "        "
   ]
  },
  {
   "cell_type": "code",
   "execution_count": 2,
   "id": "88c31ce7",
   "metadata": {},
   "outputs": [
    {
     "data": {
      "text/plain": [
       "0"
      ]
     },
     "execution_count": 2,
     "metadata": {},
     "output_type": "execute_result"
    }
   ],
   "source": [
    "len(story)"
   ]
  },
  {
   "cell_type": "code",
   "execution_count": 7,
   "id": "d1cd3902",
   "metadata": {},
   "outputs": [],
   "source": [
    "# story"
   ]
  },
  {
   "cell_type": "code",
   "execution_count": 8,
   "id": "1757842c",
   "metadata": {},
   "outputs": [],
   "source": [
    "model = gensim.models.Word2Vec(\n",
    "    window = 10 ,\n",
    "    min_count = 2\n",
    ")"
   ]
  },
  {
   "cell_type": "code",
   "execution_count": 9,
   "id": "40880f85",
   "metadata": {},
   "outputs": [],
   "source": [
    "model.build_vocab(story) "
   ]
  },
  {
   "cell_type": "code",
   "execution_count": 10,
   "id": "96a76652",
   "metadata": {},
   "outputs": [
    {
     "data": {
      "text/plain": [
       "(6568865, 8628190)"
      ]
     },
     "execution_count": 10,
     "metadata": {},
     "output_type": "execute_result"
    }
   ],
   "source": [
    "model.train(story, total_examples = model.corpus_count , epochs = model.epochs) "
   ]
  },
  {
   "cell_type": "code",
   "execution_count": 11,
   "id": "4663957d",
   "metadata": {},
   "outputs": [
    {
     "data": {
      "text/plain": [
       "[('stormborn', 0.8429470062255859),\n",
       " ('targaryen', 0.785051703453064),\n",
       " ('unburnt', 0.7173674702644348),\n",
       " ('queen', 0.7110819220542908),\n",
       " ('princess', 0.6806447505950928),\n",
       " ('dorne', 0.645351231098175),\n",
       " ('joffrey', 0.6386110186576843),\n",
       " ('rhaegar', 0.6338507533073425),\n",
       " ('margaery', 0.6335176825523376),\n",
       " ('viserys', 0.6334224343299866)]"
      ]
     },
     "execution_count": 11,
     "metadata": {},
     "output_type": "execute_result"
    }
   ],
   "source": [
    "model.wv.most_similar('daenerys') "
   ]
  },
  {
   "cell_type": "code",
   "execution_count": 12,
   "id": "6f88f45d",
   "metadata": {},
   "outputs": [
    {
     "data": {
      "text/plain": [
       "[('stormborn', 0.8429470062255859),\n",
       " ('targaryen', 0.785051703453064),\n",
       " ('unburnt', 0.7173674702644348),\n",
       " ('queen', 0.7110819220542908),\n",
       " ('princess', 0.6806447505950928),\n",
       " ('dorne', 0.645351231098175),\n",
       " ('joffrey', 0.6386110186576843),\n",
       " ('rhaegar', 0.6338507533073425),\n",
       " ('margaery', 0.6335176825523376),\n",
       " ('viserys', 0.6334224343299866)]"
      ]
     },
     "execution_count": 12,
     "metadata": {},
     "output_type": "execute_result"
    }
   ],
   "source": [
    "model.wv.most_similar('daenerys') "
   ]
  },
  {
   "cell_type": "code",
   "execution_count": 13,
   "id": "d0bf755e",
   "metadata": {},
   "outputs": [
    {
     "data": {
      "text/plain": [
       "'jon'"
      ]
     },
     "execution_count": 13,
     "metadata": {},
     "output_type": "execute_result"
    }
   ],
   "source": [
    "model.wv.doesnt_match(['jon' , 'rikon' , 'arya' , 'sansa' , 'bran']) "
   ]
  },
  {
   "cell_type": "code",
   "execution_count": 14,
   "id": "671e4dae",
   "metadata": {},
   "outputs": [
    {
     "data": {
      "text/plain": [
       "'bronn'"
      ]
     },
     "execution_count": 14,
     "metadata": {},
     "output_type": "execute_result"
    }
   ],
   "source": [
    "model.wv.doesnt_match(['cersei' , 'jaime' , 'bronn' , 'tyrion']) "
   ]
  },
  {
   "cell_type": "code",
   "execution_count": 15,
   "id": "3d1f1514",
   "metadata": {},
   "outputs": [
    {
     "data": {
      "text/plain": [
       "array([ 0.01819384, -1.4459971 ,  0.8200706 , -1.3644018 ,  1.2599167 ,\n",
       "        0.8271709 ,  1.0255535 , -0.45783707,  0.50459146,  0.864848  ,\n",
       "       -0.8631769 , -0.13951546,  0.25302902, -1.4986346 , -0.42743582,\n",
       "        1.919911  ,  1.8296595 ,  1.9122992 , -1.3322932 , -2.1277328 ,\n",
       "        2.063893  , -1.4390014 , -1.9037267 ,  0.8976543 , -0.9767121 ,\n",
       "       -0.67465365,  0.2848995 ,  2.4467635 , -1.3323998 ,  0.97205436,\n",
       "       -1.2615625 , -0.63619   ,  0.39401996, -1.6536679 ,  0.18094765,\n",
       "        1.1683247 ,  1.7348937 ,  0.5471222 ,  1.0683618 ,  1.4453499 ,\n",
       "       -0.41638535, -1.439443  ,  1.7243732 ,  0.3144316 ,  1.6682156 ,\n",
       "       -1.0799627 ,  0.83581024, -0.4665478 ,  1.3527503 , -0.23688294,\n",
       "        1.8223217 , -1.1988747 ,  1.8992819 , -1.3865517 ,  0.59088194,\n",
       "       -0.53339005, -1.8082645 , -2.863696  ,  0.22096746, -0.72552866,\n",
       "        0.83356315,  0.37177292,  1.6614184 , -1.7424431 ,  2.0236614 ,\n",
       "        1.0795639 ,  1.3411084 ,  2.0877361 , -0.72910786, -0.5298729 ,\n",
       "        1.8812205 , -0.8856426 , -0.4136957 , -0.01778736,  1.0079446 ,\n",
       "        2.3885412 , -1.8034447 ,  2.6838992 ,  1.2582203 , -0.3854967 ,\n",
       "       -1.446738  , -2.041978  , -2.1868565 ,  1.3426398 , -1.4391944 ,\n",
       "        0.5005711 ,  0.4383031 , -1.4303716 ,  0.1064588 , -1.64183   ,\n",
       "        0.18871628,  0.9401931 ,  1.2299404 , -0.90107816,  0.92975783,\n",
       "       -2.1624906 ,  1.306813  , -2.7687385 ,  1.9970108 ,  0.20252521],\n",
       "      dtype=float32)"
      ]
     },
     "execution_count": 15,
     "metadata": {},
     "output_type": "execute_result"
    }
   ],
   "source": [
    "model.wv['jon']"
   ]
  },
  {
   "cell_type": "code",
   "execution_count": 16,
   "id": "9fe799b5",
   "metadata": {},
   "outputs": [
    {
     "data": {
      "text/plain": [
       "(100,)"
      ]
     },
     "execution_count": 16,
     "metadata": {},
     "output_type": "execute_result"
    }
   ],
   "source": [
    "model.wv['king'].shape "
   ]
  },
  {
   "cell_type": "code",
   "execution_count": 17,
   "id": "c4285508",
   "metadata": {},
   "outputs": [
    {
     "data": {
      "text/plain": [
       "0.8322083"
      ]
     },
     "execution_count": 17,
     "metadata": {},
     "output_type": "execute_result"
    }
   ],
   "source": [
    "model.wv.similarity('arya' , 'sansa') "
   ]
  },
  {
   "cell_type": "code",
   "execution_count": 18,
   "id": "dd38b74c",
   "metadata": {},
   "outputs": [
    {
     "data": {
      "text/plain": [
       "0.2484292"
      ]
     },
     "execution_count": 18,
     "metadata": {},
     "output_type": "execute_result"
    }
   ],
   "source": [
    "model.wv.similarity('tywin' ,'sansa')"
   ]
  },
  {
   "cell_type": "code",
   "execution_count": 19,
   "id": "fe71f891",
   "metadata": {},
   "outputs": [
    {
     "data": {
      "text/plain": [
       "(17453, 100)"
      ]
     },
     "execution_count": 19,
     "metadata": {},
     "output_type": "execute_result"
    }
   ],
   "source": [
    "model.wv.get_normed_vectors().shape"
   ]
  },
  {
   "cell_type": "code",
   "execution_count": 20,
   "id": "91d1cd78",
   "metadata": {},
   "outputs": [],
   "source": [
    "y = model.wv.index_to_key "
   ]
  },
  {
   "cell_type": "code",
   "execution_count": 21,
   "id": "2c897a01",
   "metadata": {},
   "outputs": [],
   "source": [
    "from sklearn.decomposition import PCA \n"
   ]
  },
  {
   "cell_type": "code",
   "execution_count": 22,
   "id": "46d21ab9",
   "metadata": {},
   "outputs": [],
   "source": [
    "pca = PCA(n_components =3) "
   ]
  },
  {
   "cell_type": "code",
   "execution_count": 23,
   "id": "799aa1f1",
   "metadata": {},
   "outputs": [],
   "source": [
    "x = pca.fit_transform(model.wv.get_normed_vectors())"
   ]
  },
  {
   "cell_type": "code",
   "execution_count": 24,
   "id": "a2e1141c",
   "metadata": {},
   "outputs": [
    {
     "data": {
      "text/plain": [
       "array([[-0.11460353,  0.6166691 , -0.03171029],\n",
       "       [-0.16593865,  0.36306298,  0.04769725],\n",
       "       [ 0.33159503,  0.5593358 ,  0.18581496],\n",
       "       [-0.00379542,  0.3378218 , -0.11491603],\n",
       "       [ 0.16584863,  0.55880857,  0.25663728]], dtype=float32)"
      ]
     },
     "execution_count": 24,
     "metadata": {},
     "output_type": "execute_result"
    }
   ],
   "source": [
    "x[:5]"
   ]
  },
  {
   "cell_type": "code",
   "execution_count": null,
   "id": "0ced8ca5",
   "metadata": {},
   "outputs": [],
   "source": [
    "import plotly.express as px \n",
    "fig = px.scatter_3d(x[:500] , x=0 , y=1 , z=2 , color=y[:500])\n",
    "fig.show()"
   ]
  },
  {
   "cell_type": "code",
   "execution_count": null,
   "id": "9fd44e90",
   "metadata": {},
   "outputs": [],
   "source": []
  },
  {
   "cell_type": "code",
   "execution_count": null,
   "id": "5f98044e",
   "metadata": {},
   "outputs": [],
   "source": []
  }
 ],
 "metadata": {
  "kernelspec": {
   "display_name": "Python 3 (ipykernel)",
   "language": "python",
   "name": "python3"
  },
  "language_info": {
   "codemirror_mode": {
    "name": "ipython",
    "version": 3
   },
   "file_extension": ".py",
   "mimetype": "text/x-python",
   "name": "python",
   "nbconvert_exporter": "python",
   "pygments_lexer": "ipython3",
   "version": "3.10.11"
  }
 },
 "nbformat": 4,
 "nbformat_minor": 5
}
