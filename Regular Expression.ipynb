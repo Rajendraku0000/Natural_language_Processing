{
 "cells": [
  {
   "cell_type": "code",
   "execution_count": 1,
   "id": "77e83201",
   "metadata": {},
   "outputs": [],
   "source": [
    "import re   # Regular Expression "
   ]
  },
  {
   "cell_type": "code",
   "execution_count": 2,
   "id": "d46f99a7",
   "metadata": {},
   "outputs": [],
   "source": [
    "# Search the string to see if it starts with \"The\" and ends with \"Spain\""
   ]
  },
  {
   "cell_type": "code",
   "execution_count": 6,
   "id": "3f91ed2b",
   "metadata": {},
   "outputs": [
    {
     "name": "stdout",
     "output_type": "stream",
     "text": [
      "<re.Match object; span=(0, 17), match='the rain in spain'>\n",
      "yes\n"
     ]
    }
   ],
   "source": [
    "txt = \"the rain in spain\" \n",
    "x = re.search('^the.*spain$' , txt)\n",
    "print(x)\n",
    "if x :\n",
    "    print('yes')\n",
    "else :\n",
    "    print('no')"
   ]
  },
  {
   "cell_type": "code",
   "execution_count": 4,
   "id": "8ba19357",
   "metadata": {},
   "outputs": [
    {
     "data": {
      "text/plain": [
       "['ai', 'ai']"
      ]
     },
     "execution_count": 4,
     "metadata": {},
     "output_type": "execute_result"
    }
   ],
   "source": [
    "# RegEx Functions  \n",
    "# 1 . Findall ==> Returns a list containing all matches . \n",
    "txt = \"the rain in spain.\" \n",
    "x = re.findall('ai' , txt) \n",
    "x"
   ]
  },
  {
   "cell_type": "code",
   "execution_count": 5,
   "id": "65fdea76",
   "metadata": {},
   "outputs": [
    {
     "data": {
      "text/plain": [
       "[]"
      ]
     },
     "execution_count": 5,
     "metadata": {},
     "output_type": "execute_result"
    }
   ],
   "source": [
    "# The list contains the matches in the order they are found.If no matches are found, an empty list is returned . \n",
    "x = re.findall('Samyak' , txt) \n",
    "x "
   ]
  },
  {
   "cell_type": "code",
   "execution_count": 6,
   "id": "d3ef75be",
   "metadata": {},
   "outputs": [
    {
     "name": "stdout",
     "output_type": "stream",
     "text": [
      "The first white-space character is located in position: 1\n"
     ]
    }
   ],
   "source": [
    "# 2 . search() ==> Returns a match object if there is a match anywhere in the string . \n",
    "txt = 'I am in jaipur' \n",
    "x = re.search('\\s',txt) \n",
    "print('The first white-space character is located in position:',x.start())"
   ]
  },
  {
   "cell_type": "code",
   "execution_count": 7,
   "id": "1bce6b5c",
   "metadata": {},
   "outputs": [
    {
     "name": "stdout",
     "output_type": "stream",
     "text": [
      "<re.Match object; span=(8, 14), match='jaipur'>\n"
     ]
    }
   ],
   "source": [
    "# If no matches are found, the value None is returned.\n",
    "x = re.search('jaipur',txt) \n",
    "print(x)"
   ]
  },
  {
   "cell_type": "code",
   "execution_count": 8,
   "id": "228d840d",
   "metadata": {},
   "outputs": [
    {
     "data": {
      "text/plain": [
       "['I', 'am', 'in', 'Jaipur.']"
      ]
     },
     "execution_count": 8,
     "metadata": {},
     "output_type": "execute_result"
    }
   ],
   "source": [
    "# 3 . split() ==> Returns a list where the string has been split at each other . \n",
    "txt = 'I am in Jaipur.' \n",
    "x = re.split('\\s' , txt) \n",
    "x"
   ]
  },
  {
   "cell_type": "code",
   "execution_count": 9,
   "id": "6ba724f7",
   "metadata": {},
   "outputs": [
    {
     "data": {
      "text/plain": [
       "['I', 'am in Jaipur.']"
      ]
     },
     "execution_count": 9,
     "metadata": {},
     "output_type": "execute_result"
    }
   ],
   "source": [
    "# You can control the number of occurrences by specifying the maxsplit parameter. \n",
    "x = re.split('\\s' , txt , 1) \n",
    "x"
   ]
  },
  {
   "cell_type": "code",
   "execution_count": 10,
   "id": "5891192e",
   "metadata": {},
   "outputs": [
    {
     "data": {
      "text/plain": [
       "'I5am5in5Jaipur.'"
      ]
     },
     "execution_count": 10,
     "metadata": {},
     "output_type": "execute_result"
    }
   ],
   "source": [
    "# 4  . sub() ==> Replace one or many matches with a string . \n",
    "x = re.sub('\\s' , \"5\" , txt) \n",
    "x"
   ]
  },
  {
   "cell_type": "code",
   "execution_count": 11,
   "id": "0eca72bd",
   "metadata": {},
   "outputs": [
    {
     "data": {
      "text/plain": [
       "'I5am5in Jaipur.'"
      ]
     },
     "execution_count": 11,
     "metadata": {},
     "output_type": "execute_result"
    }
   ],
   "source": [
    "# You can control the number of replacements by specifying the count parameter. \n",
    "x = re.sub('\\s' , \"5\" , txt , 2) \n",
    "x"
   ]
  },
  {
   "cell_type": "code",
   "execution_count": 12,
   "id": "17812a81",
   "metadata": {},
   "outputs": [
    {
     "name": "stdout",
     "output_type": "stream",
     "text": [
      "['a', 'm', 'i', 'n', 'j', 'a', 'i', 'p', 'u', 'r']\n"
     ]
    }
   ],
   "source": [
    "# MatchCharacters ==>> MatchCharacters are characters with a special meaning . \n",
    "#Find all lower case characters alphabetically between \"a\" and \"m\" . \n",
    "txt = 'I am in jaipur' \n",
    "x = re.findall(\"[a-z]\" , txt) \n",
    "print(x) "
   ]
  },
  {
   "cell_type": "code",
   "execution_count": 13,
   "id": "3b245d6b",
   "metadata": {},
   "outputs": [
    {
     "data": {
      "text/plain": [
       "['5', '9']"
      ]
     },
     "execution_count": 13,
     "metadata": {},
     "output_type": "execute_result"
    }
   ],
   "source": [
    "# 2. \\ ==> Signals a special sequence (can also be used  to escape special characters . )  \n",
    "\n",
    "txt = \"That will be 59 dollors\"\n",
    "\n",
    "# Find all digit charcters .  \n",
    "\n",
    "x = re.findall(\"\\d\" , txt)\n",
    "x"
   ]
  },
  {
   "cell_type": "code",
   "execution_count": 14,
   "id": "34f99094",
   "metadata": {},
   "outputs": [
    {
     "name": "stdout",
     "output_type": "stream",
     "text": [
      "['hello']\n"
     ]
    }
   ],
   "source": [
    "# 3   . ==> any character (except newline character) \n",
    "txt = \"hello planet\" \n",
    "#Search for a sequence that starts with \"he\", followed by two (any) characters, and an \"o\" . \n",
    "x = re.findall(\"he..o\" , txt) \n",
    "print(x)"
   ]
  },
  {
   "cell_type": "code",
   "execution_count": 9,
   "id": "285b9c80",
   "metadata": {},
   "outputs": [
    {
     "name": "stdout",
     "output_type": "stream",
     "text": [
      "['hello']\n"
     ]
    }
   ],
   "source": [
    "# 4   ^ ==> starts with . \n",
    "txt = \"hello planet\" \n",
    "x = re.findall('^hello' , txt) \n",
    "print(x) \n",
    "# if x :\n",
    "#     print(\"yes\") \n",
    "# else : \n",
    "#     print('no')"
   ]
  },
  {
   "cell_type": "code",
   "execution_count": 16,
   "id": "3c3a2fa8",
   "metadata": {},
   "outputs": [
    {
     "data": {
      "text/plain": [
       "['world']"
      ]
     },
     "execution_count": 16,
     "metadata": {},
     "output_type": "execute_result"
    }
   ],
   "source": [
    "# 5  $ ==> ends with. \n",
    "txt = 'hello world' \n",
    "x = re.findall('world$' , txt)\n",
    "x"
   ]
  },
  {
   "cell_type": "code",
   "execution_count": 17,
   "id": "5adc1f29",
   "metadata": {},
   "outputs": [
    {
     "data": {
      "text/plain": [
       "['world']"
      ]
     },
     "execution_count": 17,
     "metadata": {},
     "output_type": "execute_result"
    }
   ],
   "source": [
    "# 6 zero or more occurence  \n",
    "#Search for a sequence that starts with \"he\", followed by 0 or more  (any) characters, and an \"o\" . \n",
    "x = re.findall('wo.*ld' , txt)\n",
    "x"
   ]
  },
  {
   "cell_type": "code",
   "execution_count": 18,
   "id": "cc7a81b3",
   "metadata": {},
   "outputs": [
    {
     "data": {
      "text/plain": [
       "['hello']"
      ]
     },
     "execution_count": 18,
     "metadata": {},
     "output_type": "execute_result"
    }
   ],
   "source": [
    "# 7 one or more occurance  \n",
    "#Search for a sequence that starts with \"he\", followed by 1 or more  (any) characters, and an \"o\" . \n",
    "x = re.findall('he.+lo' , txt) \n",
    "x"
   ]
  },
  {
   "cell_type": "code",
   "execution_count": 10,
   "id": "d95b21b7",
   "metadata": {},
   "outputs": [
    {
     "name": "stdout",
     "output_type": "stream",
     "text": [
      "[]\n"
     ]
    }
   ],
   "source": [
    "# 8 zero or one occurance \n",
    "#Search for a sequence that starts with \"he\", followed by 0 or 1  (any) character, and an \"o\" . \n",
    "a = \"hello world\" \n",
    "x = re.findall(\"he.?o\" , a)\n",
    "print(x)\n",
    "# x++\n",
    "#This time we got no match, because there were not zero, not one, but two characters between \"he\" and the \"o\"\n"
   ]
  },
  {
   "cell_type": "code",
   "execution_count": 15,
   "id": "22d50942",
   "metadata": {},
   "outputs": [
    {
     "data": {
      "text/plain": [
       "['helllo']"
      ]
     },
     "execution_count": 15,
     "metadata": {},
     "output_type": "execute_result"
    }
   ],
   "source": [
    "# 9  {} Exactly the specified number of occurances . \n",
    "a = \"helllo world\" \n",
    "\n",
    "#Search for a sequence that starts with \"he\", followed excactly 2 (any) characters, and an \"o\" . \n",
    "x = re.findall(\"he.{3}o\" , a) \n",
    "x"
   ]
  },
  {
   "cell_type": "code",
   "execution_count": 29,
   "id": "a1ecac11",
   "metadata": {},
   "outputs": [
    {
     "name": "stdout",
     "output_type": "stream",
     "text": [
      "['falls']\n"
     ]
    }
   ],
   "source": [
    "# 10 | Either or  . \n",
    "txt = \"The rain in Spain falls mainly in the plain!\"  \n",
    "#Check if the string contains either \"falls\" or \"stays\" . \n",
    "x  = re.findall(\"falls|stays\" , txt) \n",
    "print(x) \n"
   ]
  },
  {
   "cell_type": "markdown",
   "id": "8de912fa",
   "metadata": {},
   "source": [
    "# Special Sequence "
   ]
  },
  {
   "cell_type": "code",
   "execution_count": null,
   "id": "267e3cbf",
   "metadata": {},
   "outputs": [],
   "source": [
    "# A special sequence is a \\ followed by one of the characters and has a special meaning . \n",
    "\n",
    "# 1. /A ==>Returns a match if the specified characters are at the begining of the string . \n"
   ]
  },
  {
   "cell_type": "code",
   "execution_count": 18,
   "id": "89154f4c",
   "metadata": {},
   "outputs": [
    {
     "data": {
      "text/plain": [
       "['the']"
      ]
     },
     "execution_count": 18,
     "metadata": {},
     "output_type": "execute_result"
    }
   ],
   "source": [
    "txt = \"the rain in spain\" \n",
    "x = re.findall(\"^the\" , txt) \n",
    "x"
   ]
  },
  {
   "cell_type": "code",
   "execution_count": 19,
   "id": "1d567119",
   "metadata": {},
   "outputs": [
    {
     "data": {
      "text/plain": [
       "['the']"
      ]
     },
     "execution_count": 19,
     "metadata": {},
     "output_type": "execute_result"
    }
   ],
   "source": [
    "x = re.findall(\"\\Athe\" , txt) \n",
    "x "
   ]
  },
  {
   "cell_type": "code",
   "execution_count": 32,
   "id": "80ddc4b3",
   "metadata": {},
   "outputs": [
    {
     "data": {
      "text/plain": [
       "['ain', 'ain']"
      ]
     },
     "execution_count": 32,
     "metadata": {},
     "output_type": "execute_result"
    }
   ],
   "source": [
    "# 2  \\b ==>Returns a match where specified characters are at the begining or at the end of a word . \n",
    "txt = \"the rain in spain \"  \n",
    "x = re.findall(r\"ain\\b\" , txt) \n",
    "# x = re.findall(\"\\bth\" , txt) \n",
    "x\n"
   ]
  },
  {
   "cell_type": "code",
   "execution_count": 33,
   "id": "9e665b89",
   "metadata": {},
   "outputs": [
    {
     "data": {
      "text/plain": [
       "['ain', 'ain']"
      ]
     },
     "execution_count": 33,
     "metadata": {},
     "output_type": "execute_result"
    }
   ],
   "source": [
    "# 3 \\B ==> Returns a match where the specified characters present , but not at the begining (or the end)of a word . \n",
    "\n",
    "#Check if \"ain\" is present, but NOT at the beginning of a word . \n",
    "x = re.findall(r\"\\Bain\" , txt) \n",
    "x"
   ]
  },
  {
   "cell_type": "code",
   "execution_count": 37,
   "id": "07b776cc",
   "metadata": {},
   "outputs": [
    {
     "name": "stdout",
     "output_type": "stream",
     "text": [
      "no\n"
     ]
    }
   ],
   "source": [
    "# the 'r' in the begining is making sure that the string is being treated as a 'raw string' . \n",
    "\n",
    "\n",
    "#Check if \"ain\" is present, but NOT at the end of a word . \n",
    "x = re.findall(r\"ain\\B\" , txt) \n",
    "x\n",
    "if x :\n",
    "    print('yes') \n",
    "else :\n",
    "    print('no')"
   ]
  },
  {
   "cell_type": "code",
   "execution_count": 38,
   "id": "6391b84d",
   "metadata": {},
   "outputs": [
    {
     "data": {
      "text/plain": [
       "['5', '7', '8']"
      ]
     },
     "execution_count": 38,
     "metadata": {},
     "output_type": "execute_result"
    }
   ],
   "source": [
    "# 4  \\d returns a match where the strings contains digits (numbers from  0-9)  \n",
    "txt =  \"the rain 5 in 78 spain\" \n",
    "x = re.findall(\"\\d\" , txt) \n",
    "x"
   ]
  },
  {
   "cell_type": "code",
   "execution_count": 39,
   "id": "0564dc3a",
   "metadata": {},
   "outputs": [
    {
     "name": "stdout",
     "output_type": "stream",
     "text": [
      "['t', 'h', 'e', ' ', 'r', 'a', 'i', 'n', ' ', ' ', 'i', 'n', ' ', ' ', 's', 'p', 'a', 'i', 'n']"
     ]
    }
   ],
   "source": [
    "# 5 \\D returns a match where the string does not contain digits . \n",
    "#Return a match at every no-digit character . \n",
    "x = re.findall(\"\\D\" , txt) \n",
    "print(x , end = \"\")"
   ]
  },
  {
   "cell_type": "code",
   "execution_count": 20,
   "id": "f127ce5e",
   "metadata": {},
   "outputs": [
    {
     "name": "stdout",
     "output_type": "stream",
     "text": [
      "[' ', ' ', ' ']\n"
     ]
    }
   ],
   "source": [
    "# 6 \\s returns a match where the string  contains a white space character . \n",
    "x  = re.findall('\\s' , txt) \n",
    "print(x) "
   ]
  },
  {
   "cell_type": "markdown",
   "id": "f0fbff48",
   "metadata": {},
   "source": [
    "# \\w ==> returns a match where the string contains any word characters (characters from a to z , digits from 0-9 , and the underscore_ character )"
   ]
  },
  {
   "cell_type": "code",
   "execution_count": 43,
   "id": "1f93d9fe",
   "metadata": {},
   "outputs": [
    {
     "name": "stdout",
     "output_type": "stream",
     "text": [
      "['t', 'h', 'e', 'r', 'a', 'i', 'n', '5', 'i', 'n', '7', '8', 's', 'p', 'a', 'i', 'n']"
     ]
    }
   ],
   "source": [
    "x = re.findall(\"\\w\" , txt) \n",
    "print(x , end = \"\") "
   ]
  },
  {
   "cell_type": "code",
   "execution_count": 46,
   "id": "633450a5",
   "metadata": {},
   "outputs": [
    {
     "name": "stdout",
     "output_type": "stream",
     "text": [
      "[' ', ' ', ' ', ' ', ' ']"
     ]
    }
   ],
   "source": [
    "# 7 \\W ==> returns a match where the string does not contain any word characters . \n",
    "x = re.findall(\"\\W\" , txt) \n",
    "print(x , end = \"\") "
   ]
  },
  {
   "cell_type": "code",
   "execution_count": 47,
   "id": "f33722b3",
   "metadata": {},
   "outputs": [
    {
     "data": {
      "text/plain": [
       "['spain']"
      ]
     },
     "execution_count": 47,
     "metadata": {},
     "output_type": "execute_result"
    }
   ],
   "source": [
    "# \\Z returns a match if the specified characters are at the end of the string . \n",
    "txt = \"The rain in spain\" \n",
    "#Check if the string ends with \"Spain\" . \n",
    "x = re.findall('spain\\Z' , txt) \n",
    "x"
   ]
  },
  {
   "cell_type": "markdown",
   "id": "c464db66",
   "metadata": {},
   "source": [
    "# Sets\n",
    "A set is a set of characters inside a pair of square brackets [] with a special meaning . "
   ]
  },
  {
   "cell_type": "code",
   "execution_count": 50,
   "id": "da173dd7",
   "metadata": {},
   "outputs": [
    {
     "data": {
      "text/plain": [
       "['a', 'm', 'a', 'p', 'u', 'r']"
      ]
     },
     "execution_count": 50,
     "metadata": {},
     "output_type": "execute_result"
    }
   ],
   "source": [
    "# 1 . [arn] ==> Returns a match where one of the specified characters (a,r or n ) is present . \n",
    "txt = \"I am in jaipur\" \n",
    "x = re.findall(\"[ampru]\" , txt) \n",
    "x"
   ]
  },
  {
   "cell_type": "code",
   "execution_count": 51,
   "id": "dc045570",
   "metadata": {},
   "outputs": [
    {
     "data": {
      "text/plain": [
       "['a', 'm', 'i', 'n', 'j', 'a', 'i', 'p', 'u', 'r']"
      ]
     },
     "execution_count": 51,
     "metadata": {},
     "output_type": "execute_result"
    }
   ],
   "source": [
    "# 2 - [a-n] ==> Returns a mattch for any lower case character ,alphabately between a to n  .\n",
    "txt = \"I am in jaipur\" \n",
    "x = re.findall(\"[a-z]\" , txt) \n",
    "x"
   ]
  },
  {
   "cell_type": "code",
   "execution_count": 52,
   "id": "cc140bf1",
   "metadata": {},
   "outputs": [
    {
     "data": {
      "text/plain": [
       "['I', ' ', 'm', ' ', 'i', ' ', 'j', 'i', 'p', 'u']"
      ]
     },
     "execution_count": 52,
     "metadata": {},
     "output_type": "execute_result"
    }
   ],
   "source": [
    "# 3 . [^arn] ==> Returns a match for any character except a,r and n . \n",
    "txt = \"I am in jaipur\" \n",
    "x = re.findall(\"[^arn]\" , txt) \n",
    "x"
   ]
  },
  {
   "cell_type": "code",
   "execution_count": 53,
   "id": "69aa4c15",
   "metadata": {},
   "outputs": [
    {
     "data": {
      "text/plain": [
       "['2', '3', '1', '3']"
      ]
     },
     "execution_count": 53,
     "metadata": {},
     "output_type": "execute_result"
    }
   ],
   "source": [
    "# 4 . [0123] ==>  Returns a match where any of the specified of digits (0,1,2 or 3)  are present . \n",
    "txt = \"I am 23 in 13 jaipur\" \n",
    "x  = re.findall(\"[0123]\" , txt)\n",
    "x"
   ]
  },
  {
   "cell_type": "code",
   "execution_count": 54,
   "id": "8589bd05",
   "metadata": {},
   "outputs": [
    {
     "data": {
      "text/plain": [
       "['3', '4', '5', '1', '2', '3']"
      ]
     },
     "execution_count": 54,
     "metadata": {},
     "output_type": "execute_result"
    }
   ],
   "source": [
    "# 5 . [0-9] ==> Returns a match for any digits between  0 to 9 . \n",
    "txt = \"I am 345 in 123 jaipur\" \n",
    "x = re.findall(\"[0-9]\" , txt) \n",
    "x"
   ]
  },
  {
   "cell_type": "code",
   "execution_count": 55,
   "id": "58dc9d86",
   "metadata": {},
   "outputs": [
    {
     "data": {
      "text/plain": [
       "['11', '45']"
      ]
     },
     "execution_count": 55,
     "metadata": {},
     "output_type": "execute_result"
    }
   ],
   "source": [
    "# 6 . [0-5][0-9] ==> Returns a match for any two digits numbers from 00 and 59 . \n",
    "txt = \"many times before 11:45 AM\"\n",
    "\n",
    "#Check if the string has any two-digit numbers, from 00 to 59 .\n",
    "x = re.findall(\"[0-5][0-9]\" , txt) \n",
    "x"
   ]
  },
  {
   "cell_type": "code",
   "execution_count": 56,
   "id": "55e0881a",
   "metadata": {},
   "outputs": [
    {
     "data": {
      "text/plain": [
       "['t', 'i', 'm', 'e', 's', 'b', 'e', 'f', 'o', 'r', 'e', 'A', 'M']"
      ]
     },
     "execution_count": 56,
     "metadata": {},
     "output_type": "execute_result"
    }
   ],
   "source": [
    "# 7 . [a-zA-Z] ==> Returns a match for any character alphabatically between a to z  , lower case and upper case .\n",
    "txt = \"8 times before 11:45 AM\" \n",
    "x = re.findall(\"[a-zA-Z]\" ,txt) \n",
    "x"
   ]
  },
  {
   "cell_type": "code",
   "execution_count": 57,
   "id": "f0b077c1",
   "metadata": {},
   "outputs": [
    {
     "name": "stdout",
     "output_type": "stream",
     "text": [
      "['+']\n"
     ]
    }
   ],
   "source": [
    "# 8 . [+]\tIn sets, +, *, ., |, (), $,{} has no special meaning, so [+] means: return a match for any + character in the string\n",
    "\n",
    "txt = \"8 times before 11+45 AM\"\n",
    "#Check if the string has any + characters .\n",
    "\n",
    "x = re.findall(\"[+]\", txt)\n",
    "print(x) "
   ]
  },
  {
   "cell_type": "markdown",
   "id": "965061b4",
   "metadata": {},
   "source": [
    "# The findall() Function\n",
    "The findall() function returns a list containing all matches."
   ]
  },
  {
   "cell_type": "code",
   "execution_count": null,
   "id": "dcc90cee",
   "metadata": {},
   "outputs": [],
   "source": [
    "txt = \"The rain in Spain\"\n",
    "x = re.findall(\"ai\", txt)\n",
    "print(x)"
   ]
  },
  {
   "cell_type": "markdown",
   "id": "bebcfeb1",
   "metadata": {},
   "source": [
    "# Match Object\n",
    "A Match Object is an object containing information about the search and the result.\n",
    "\n",
    "Note: If there is no match, the value None will be returned, instead of the Match Object."
   ]
  },
  {
   "cell_type": "code",
   "execution_count": 21,
   "id": "bbd2a3f1",
   "metadata": {},
   "outputs": [
    {
     "name": "stdout",
     "output_type": "stream",
     "text": [
      "<re.Match object; span=(5, 7), match='ai'>\n"
     ]
    }
   ],
   "source": [
    "\n",
    "txt = \"The rain in Spain\"\n",
    "x = re.search(\"ai\", txt)\n",
    "print(x) "
   ]
  },
  {
   "cell_type": "markdown",
   "id": "493a3cd1",
   "metadata": {},
   "source": [
    "<!-- # The Match object has properties and methods used to retrieve information about the search, and the result . \n",
    "\n",
    ".span() returns a tuple containing the start-, and end positions of the match.\n",
    ".string returns the string passed into the function\n",
    ".group() returns the part of the string where there was a match -->"
   ]
  },
  {
   "cell_type": "markdown",
   "id": "2fbae0fe",
   "metadata": {},
   "source": [
    "# The Match object has properties and methods used to retrieve information about the search, and the result . "
   ]
  },
  {
   "cell_type": "code",
   "execution_count": null,
   "id": "efbc61b3",
   "metadata": {},
   "outputs": [],
   "source": [
    "# .span() returns a tuple containing the start-, and end positions of the match.\n",
    "# .string returns the string passed into the function\n",
    "# .group() returns the part of the string where there was a match"
   ]
  },
  {
   "cell_type": "code",
   "execution_count": 23,
   "id": "fa8fdf8f",
   "metadata": {},
   "outputs": [
    {
     "name": "stdout",
     "output_type": "stream",
     "text": [
      "(12, 17)\n"
     ]
    }
   ],
   "source": [
    "#Search for an upper case \"S\" character in the beginning of a word, and print its position:\n",
    "\n",
    "txt = \"The rain in Spain\"\n",
    "x = re.search(r\"\\bS\\w+\", txt)\n",
    "print(x.span())\n"
   ]
  },
  {
   "cell_type": "code",
   "execution_count": 59,
   "id": "6e98d7ce",
   "metadata": {},
   "outputs": [
    {
     "name": "stdout",
     "output_type": "stream",
     "text": [
      "The rain in Spain\n"
     ]
    }
   ],
   "source": [
    "#The string property returns the search string:\n",
    "\n",
    "txt = \"The rain in Spain\"\n",
    "x = re.search(r\"\\bS\\w+\", txt)\n",
    "print(x.string)\n"
   ]
  },
  {
   "cell_type": "code",
   "execution_count": 60,
   "id": "cc573733",
   "metadata": {},
   "outputs": [
    {
     "name": "stdout",
     "output_type": "stream",
     "text": [
      "Spain\n"
     ]
    }
   ],
   "source": [
    "txt = \"The rain in Spain\"\n",
    "#Search for an upper case \"S\" character in the beginning of a word, and print the word . \n",
    "x = re.search(r\"\\bS\\w+\", txt)\n",
    "print(x.group())\n"
   ]
  },
  {
   "cell_type": "code",
   "execution_count": null,
   "id": "19dab7ed",
   "metadata": {},
   "outputs": [],
   "source": [
    "# Note: If there is no match, the value None will be returned, instead of the Match Object.\n"
   ]
  },
  {
   "cell_type": "code",
   "execution_count": null,
   "id": "27391aff",
   "metadata": {},
   "outputs": [],
   "source": []
  }
 ],
 "metadata": {
  "kernelspec": {
   "display_name": "Python 3 (ipykernel)",
   "language": "python",
   "name": "python3"
  },
  "language_info": {
   "codemirror_mode": {
    "name": "ipython",
    "version": 3
   },
   "file_extension": ".py",
   "mimetype": "text/x-python",
   "name": "python",
   "nbconvert_exporter": "python",
   "pygments_lexer": "ipython3",
   "version": "3.10.9"
  }
 },
 "nbformat": 4,
 "nbformat_minor": 5
}
