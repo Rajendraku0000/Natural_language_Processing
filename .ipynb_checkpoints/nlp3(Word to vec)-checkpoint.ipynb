{
 "cells": [
  {
   "cell_type": "code",
   "execution_count": 1,
   "id": "6d1e967c",
   "metadata": {},
   "outputs": [],
   "source": [
    "import numpy as np \n",
    "import pandas as pd "
   ]
  },
  {
   "cell_type": "code",
   "execution_count": null,
   "id": "9957b682",
   "metadata": {},
   "outputs": [],
   "source": []
  },
  {
   "cell_type": "code",
   "execution_count": 2,
   "id": "069fe1ed",
   "metadata": {},
   "outputs": [],
   "source": [
    "# df = pd.read_csv(\"C:\\\\Users\\\\saurabh\\\\Desktop\\\\pyth\\\\gameofthrones\\\\firstdata.txt\")"
   ]
  },
  {
   "cell_type": "code",
   "execution_count": 3,
   "id": "00de960d",
   "metadata": {},
   "outputs": [],
   "source": [
    "# !pip install gensim"
   ]
  },
  {
   "cell_type": "code",
   "execution_count": 4,
   "id": "b583ac1c",
   "metadata": {},
   "outputs": [],
   "source": [
    "import gensim \n",
    "import os "
   ]
  },
  {
   "cell_type": "markdown",
   "id": "e9552252",
   "metadata": {},
   "source": [
    "# Gensim : It is an open source library in python written by Radim Rehurek which is used in unsupervised topic modelling and natural language processing. It is designed to extract semantic topics from documents. It can handle large text collections."
   ]
  },
  {
   "cell_type": "code",
   "execution_count": null,
   "id": "88bd0ec5",
   "metadata": {},
   "outputs": [],
   "source": [
    "from nltk import sent_tokenize \n",
    "from gensim.utils import simple_preprocess \n",
    "\n",
    "story = []\n",
    "for filename in os.listdir('C:\\\\Users\\\\rajen\\\\OneDrive\\\\Desktop\\\\Newfolder'):\n",
    "    f = open(os.path.join(\"C:\\\\Users\\\\rajen\\\\OneDrive\\\\Desktop\\\\Newfolder\" , filename)) \n",
    "    corpus = f.read() \n",
    "    raw_sent = sent_tokenize(corpus) \n",
    "    for sent in raw_sent :\n",
    "        story.append(simple_preprocess(sent)) \n",
    "        "
   ]
  },
  {
   "cell_type": "code",
   "execution_count": null,
   "id": "88c31ce7",
   "metadata": {},
   "outputs": [],
   "source": [
    "len(story)"
   ]
  },
  {
   "cell_type": "code",
   "execution_count": null,
   "id": "d1cd3902",
   "metadata": {},
   "outputs": [],
   "source": [
    "# story"
   ]
  },
  {
   "cell_type": "code",
   "execution_count": null,
   "id": "1757842c",
   "metadata": {},
   "outputs": [],
   "source": [
    "model = gensim.models.Word2Vec(\n",
    "    window = 10 ,\n",
    "    min_count = 2\n",
    ")"
   ]
  },
  {
   "cell_type": "code",
   "execution_count": null,
   "id": "40880f85",
   "metadata": {},
   "outputs": [],
   "source": [
    "model.build_vocab(story) "
   ]
  },
  {
   "cell_type": "code",
   "execution_count": null,
   "id": "96a76652",
   "metadata": {},
   "outputs": [],
   "source": [
    "model.train(story, total_examples = model.corpus_count , epochs = model.epochs) "
   ]
  },
  {
   "cell_type": "code",
   "execution_count": null,
   "id": "4663957d",
   "metadata": {},
   "outputs": [],
   "source": [
    "model.wv.most_similar('daenerys') "
   ]
  },
  {
   "cell_type": "code",
   "execution_count": null,
   "id": "6f88f45d",
   "metadata": {},
   "outputs": [],
   "source": [
    "model.wv.most_similar('daenerys') "
   ]
  },
  {
   "cell_type": "code",
   "execution_count": null,
   "id": "d0bf755e",
   "metadata": {},
   "outputs": [],
   "source": [
    "model.wv.doesnt_match(['jon' , 'rikon' , 'arya' , 'sansa' , 'bran']) "
   ]
  },
  {
   "cell_type": "code",
   "execution_count": null,
   "id": "671e4dae",
   "metadata": {},
   "outputs": [],
   "source": [
    "model.wv.doesnt_match(['cersei' , 'jaime' , 'bronn' , 'tyrion']) "
   ]
  },
  {
   "cell_type": "code",
   "execution_count": null,
   "id": "3d1f1514",
   "metadata": {},
   "outputs": [],
   "source": [
    "model.wv['jon']"
   ]
  },
  {
   "cell_type": "code",
   "execution_count": null,
   "id": "9fe799b5",
   "metadata": {},
   "outputs": [],
   "source": [
    "model.wv['king'].shape "
   ]
  },
  {
   "cell_type": "code",
   "execution_count": null,
   "id": "c4285508",
   "metadata": {},
   "outputs": [],
   "source": [
    "model.wv.similarity('arya' , 'sansa') "
   ]
  },
  {
   "cell_type": "code",
   "execution_count": null,
   "id": "dd38b74c",
   "metadata": {},
   "outputs": [],
   "source": [
    "model.wv.similarity('tywin' ,'sansa')"
   ]
  },
  {
   "cell_type": "code",
   "execution_count": null,
   "id": "fe71f891",
   "metadata": {},
   "outputs": [],
   "source": [
    "model.wv.get_normed_vectors().shape"
   ]
  },
  {
   "cell_type": "code",
   "execution_count": null,
   "id": "91d1cd78",
   "metadata": {},
   "outputs": [],
   "source": [
    "y = model.wv.index_to_key "
   ]
  },
  {
   "cell_type": "code",
   "execution_count": null,
   "id": "2c897a01",
   "metadata": {},
   "outputs": [],
   "source": [
    "from sklearn.decomposition import PCA \n"
   ]
  },
  {
   "cell_type": "code",
   "execution_count": null,
   "id": "46d21ab9",
   "metadata": {},
   "outputs": [],
   "source": [
    "pca = PCA(n_components =3) "
   ]
  },
  {
   "cell_type": "code",
   "execution_count": null,
   "id": "799aa1f1",
   "metadata": {},
   "outputs": [],
   "source": [
    "x = pca.fit_transform(model.wv.get_normed_vectors())"
   ]
  },
  {
   "cell_type": "code",
   "execution_count": null,
   "id": "a2e1141c",
   "metadata": {},
   "outputs": [],
   "source": [
    "x[:5]"
   ]
  },
  {
   "cell_type": "code",
   "execution_count": null,
   "id": "0ced8ca5",
   "metadata": {},
   "outputs": [],
   "source": [
    "import plotly.express as px \n",
    "fig = px.scatter_3d(x[:500] , x=0 , y=1 , z=2 , color=y[:500])\n",
    "fig.show()"
   ]
  },
  {
   "cell_type": "code",
   "execution_count": null,
   "id": "9fd44e90",
   "metadata": {},
   "outputs": [],
   "source": []
  },
  {
   "cell_type": "code",
   "execution_count": null,
   "id": "5f98044e",
   "metadata": {},
   "outputs": [],
   "source": []
  }
 ],
 "metadata": {
  "kernelspec": {
   "display_name": "Python 3 (ipykernel)",
   "language": "python",
   "name": "python3"
  },
  "language_info": {
   "codemirror_mode": {
    "name": "ipython",
    "version": 3
   },
   "file_extension": ".py",
   "mimetype": "text/x-python",
   "name": "python",
   "nbconvert_exporter": "python",
   "pygments_lexer": "ipython3",
   "version": "3.10.9"
  }
 },
 "nbformat": 4,
 "nbformat_minor": 5
}
