{
 "cells": [
  {
   "cell_type": "markdown",
   "id": "eb38eb46",
   "metadata": {},
   "source": [
    "# Parts of Speech"
   ]
  },
  {
   "cell_type": "markdown",
   "id": "4706ed93",
   "metadata": {},
   "source": [
    "# (1). Default Tagging ==>\n",
    "\n",
    "It is a process of converting a sentence to forms – list of words, list of tuples (where each tuple is having a form (word, tag)). The tag in case of is a part-of-speech tag, and signifies whether the word is a noun, adjective, verb, and so on.\n",
    "\n",
    "Default tagging is a basic step for the part-of-speech tagging. It is performed using the DefaultTagger class. The DefaultTagger class takes ‘tag’ as a single argument. NN is the tag for a singular noun. DefaultTagger is most useful when it gets to work with most common part-of-speech tag. that’s why a noun tag is recommended."
   ]
  },
  {
   "cell_type": "code",
   "execution_count": 2,
   "id": "8cf6760b",
   "metadata": {},
   "outputs": [
    {
     "data": {
      "text/plain": [
       "[('Hello', 'NN'), ('Sam', 'NN')]"
      ]
     },
     "execution_count": 2,
     "metadata": {},
     "output_type": "execute_result"
    }
   ],
   "source": [
    "# Loading Libraries\n",
    "from nltk.tag import DefaultTagger\n",
    "\n",
    "# Defining Tag\n",
    "tagging = DefaultTagger('NN')\n",
    "\n",
    "# Tagging\n",
    "tagging.tag(['Hello', 'Sam'])\n"
   ]
  },
  {
   "cell_type": "markdown",
   "id": "4113348a",
   "metadata": {},
   "source": [
    "# Each tagger has a tag() method that takes a list of tokens (usually list of words produced by a word tokenizer), where each token is a single word. tag() returns a list of tagged tokens – a tuple of (word, tag). "
   ]
  },
  {
   "cell_type": "markdown",
   "id": "00c2bb56",
   "metadata": {},
   "source": [
    "# How DefaultTagger works ? \n",
    "\n",
    "\n",
    "\n",
    "It is a subclass of SequentialBackoffTagger and implements the choose_tag() method, having three arguments.\n",
    "\n",
    "(1). list of tokens\n",
    "\n",
    "(2). index of the current token, to choose the tag.\n",
    "\n",
    "(3). list of the previous tags"
   ]
  },
  {
   "cell_type": "markdown",
   "id": "a2de2145",
   "metadata": {},
   "source": [
    "# Tagging Sentences  ===>\n",
    "\n"
   ]
  },
  {
   "cell_type": "code",
   "execution_count": 3,
   "id": "95345b84",
   "metadata": {},
   "outputs": [
    {
     "data": {
      "text/plain": [
       "[[('welcome', 'NN'), ('to', 'NN'), ('.', 'NN')],\n",
       " [('Sam', 'NN'), ('Mohit', 'NN'), ('Raj', 'NN')]]"
      ]
     },
     "execution_count": 3,
     "metadata": {},
     "output_type": "execute_result"
    }
   ],
   "source": [
    "# Loading Libraries\n",
    "from nltk.tag import DefaultTagger\n",
    "\n",
    "# Defining Tag\n",
    "tagging = DefaultTagger('NN')\n",
    "\n",
    "tagging.tag_sents([['welcome', 'to', '.'], ['Sam', 'Mohit', 'Raj']])\n"
   ]
  },
  {
   "cell_type": "markdown",
   "id": "d3d7ee96",
   "metadata": {},
   "source": [
    "# Note: Every tag in the list of tagged sentences  is NN as we have used DefaultTagger class"
   ]
  },
  {
   "cell_type": "markdown",
   "id": "375992b7",
   "metadata": {},
   "source": [
    "# Illustrating how to untag ==> \n",
    "\n",
    "\n"
   ]
  },
  {
   "cell_type": "code",
   "execution_count": 4,
   "id": "19eeea89",
   "metadata": {},
   "outputs": [
    {
     "data": {
      "text/plain": [
       "['Mohit', 'Raj', 'Sam']"
      ]
     },
     "execution_count": 4,
     "metadata": {},
     "output_type": "execute_result"
    }
   ],
   "source": [
    "from nltk.tag import untag\n",
    "untag([('Mohit', 'NN'), ('Raj', 'NN'), ('Sam', 'NN')])\n"
   ]
  },
  {
   "cell_type": "markdown",
   "id": "5fffd7d4",
   "metadata": {},
   "source": [
    "# (2).  Part of Speech Tagging with Stop words using NLTK in python"
   ]
  },
  {
   "cell_type": "markdown",
   "id": "b81e0896",
   "metadata": {},
   "source": [
    "# List of tags and their mean ==> \n",
    "\n",
    "CC coordinating conjunction \n",
    "\n",
    "\n",
    "CD cardinal digit\n",
    "\n",
    "DT determiner \n",
    "\n",
    "EX existential there (like: “there is” … think of it like “there exists”) \n",
    "\n",
    "\n",
    "FW foreign word \n",
    "\n",
    "IN preposition/subordinating conjunction \n",
    "\n",
    "\n",
    "JJ adjective – ‘big’ \n",
    "\n",
    "\n",
    "JJR adjective, comparative – ‘bigger’ \n",
    "\n",
    "JJS adjective, superlative – ‘biggest’ \n",
    "\n",
    "\n",
    "LS list marker 1) \n",
    "\n",
    "MD modal – could, will \n",
    "\n",
    "\n",
    "NN noun, singular ‘- desk’ \n",
    "\n",
    "\n",
    "NNS noun plural – ‘desks’ \n",
    "\n",
    "\n",
    "NNP proper noun, singular – ‘Harrison’ \n",
    "\n",
    "\n",
    "NNPS proper noun, plural – ‘Americans’\n",
    "\n",
    "\n",
    "PDT predeterminer – ‘all the kids’ \n",
    "\n",
    "\n",
    "POS possessive ending parent’s \n",
    "\n",
    "\n",
    "PRP personal pronoun –  I, he, she \n",
    "\n",
    "\n",
    "PRP$ possessive pronoun – my, his, hers \n",
    "\n",
    "\n",
    "RB adverb – very, silently,\n",
    "\n",
    "\n",
    "RBR adverb, comparative – better \n",
    "\n",
    "\n",
    "RBS adverb, superlative – best \n",
    "\n",
    "\n",
    "RP particle – give up \n",
    "\n",
    "\n",
    "TO – to go ‘to’ the store. \n",
    "\n",
    "\n",
    "UH interjection – errrrrrrrm \n",
    "\n",
    "\n",
    "VB verb, base form – take\n",
    "\n",
    "\n",
    "VBD verb, past tense – took \n",
    "\n",
    "\n",
    "VBG verb, gerund/present participle – taking \n",
    "\n",
    "\n",
    "VBN verb, past participle – taken \n",
    "\n",
    "\n",
    "VBP verb, sing. present, non-3d – take \n",
    "\n",
    "VBZ verb, 3rd person sing. present – takes \n",
    "\n",
    "\n",
    "WDT wh-determiner – which \n",
    "\n",
    "\n",
    "WP wh-pronoun – who, what\n",
    "\n",
    "\n",
    "WP$ possessive wh-pronoun, eg- whose \n",
    "\n",
    "\n",
    "WRB wh-adverb, eg- where, when"
   ]
  },
  {
   "cell_type": "code",
   "execution_count": 20,
   "id": "a3b65f3c",
   "metadata": {},
   "outputs": [
    {
     "name": "stdout",
     "output_type": "stream",
     "text": [
      "[('Sukanya', 'NNP'), (',', ','), ('Rajib', 'NNP'), ('Naba', 'NNP'), ('good', 'JJ'), ('friends', 'NNS'), ('.', '.')]\n",
      "[('Sukanya', 'NNP'), ('getting', 'VBG'), ('married', 'VBN'), ('next', 'JJ'), ('year', 'NN'), ('.', '.')]\n",
      "[('Marriage', 'NN'), ('big', 'JJ'), ('step', 'NN'), ('one', 'CD'), ('’', 'NN'), ('life.It', 'NN'), ('exciting', 'VBG'), ('frightening', 'NN'), ('.', '.')]\n",
      "[('But', 'CC'), ('friendship', 'NN'), ('sacred', 'VBD'), ('bond', 'NN'), ('people.It', 'NN'), ('special', 'JJ'), ('kind', 'NN'), ('love', 'VB'), ('us', 'PRP'), ('.', '.')]\n",
      "[('Many', 'JJ'), ('must', 'MD'), ('tried', 'VB'), ('searching', 'VBG'), ('friend', 'NN'), ('never', 'RB'), ('found', 'VBD'), ('right', 'JJ'), ('one', 'CD'), ('.', '.')]\n"
     ]
    }
   ],
   "source": [
    "import nltk\n",
    "from nltk.corpus import stopwords\n",
    "from nltk.tokenize import word_tokenize, sent_tokenize\n",
    "stop_words = set(stopwords.words('english'))\n",
    "\n",
    "# Dummy text\n",
    "txt = \"Sukanya, Rajib and Naba are my good friends. \" \\\n",
    "\t\"Sukanya is getting married next year. \" \\\n",
    "\t\"Marriage is a big step in one’s life.\" \\\n",
    "\t\"It is both exciting and frightening. \" \\\n",
    "\t\"But friendship is a sacred bond between people.\" \\\n",
    "\t\"It is a special kind of love between us. \" \\\n",
    "\t\"Many of you must have tried searching for a friend \"\\\n",
    "\t\"but never found the right one.\"\n",
    "\n",
    "# sent_tokenize is one of instances of\n",
    "# PunktSentenceTokenizer from the nltk.tokenize.punkt module\n",
    "\n",
    "tokenized = sent_tokenize(txt)\n",
    "for i in tokenized:\n",
    "\t\n",
    "\t# Word tokenizers is used to find the words\n",
    "\t# and punctuation in a string\n",
    "\twordsList = nltk.word_tokenize(i)\n",
    "\n",
    "\t# removing stop words from wordList\n",
    "\twordsList = [w for w in wordsList if not w in stop_words]\n",
    "\n",
    "\t# Using a Tagger. Which is part-of-speech\n",
    "\t# tagger or POS-tagger.\n",
    "\ttagged = nltk.pos_tag(wordsList)\n",
    "\n",
    "\tprint(tagged)\n"
   ]
  },
  {
   "cell_type": "markdown",
   "id": "cf3bd4c5",
   "metadata": {},
   "source": [
    "# (3). Part of Speech Tagging using TextBlob"
   ]
  },
  {
   "cell_type": "markdown",
   "id": "1f9463c6",
   "metadata": {},
   "source": [
    "# TextBlob module is used for building programs for text analysis. One of the more powerful aspects of the TextBlob module is the Part of Speech tagging."
   ]
  },
  {
   "cell_type": "code",
   "execution_count": 24,
   "id": "a981c623",
   "metadata": {},
   "outputs": [],
   "source": [
    "# !pip install -U textblob\n",
    "# !python -m textblob.download_corpora"
   ]
  },
  {
   "cell_type": "code",
   "execution_count": 25,
   "id": "d5d0e207",
   "metadata": {},
   "outputs": [
    {
     "name": "stdout",
     "output_type": "stream",
     "text": [
      "[('Sukanya', 'NNP'), ('Rajib', 'NNP'), ('and', 'CC'), ('Naba', 'NNP'), ('are', 'VBP'), ('my', 'PRP$'), ('good', 'JJ'), ('friends', 'NNS'), ('Sukanya', 'NNP'), ('is', 'VBZ'), ('getting', 'VBG'), ('married', 'VBN'), ('next', 'JJ'), ('year', 'NN'), ('Marriage', 'NN'), ('is', 'VBZ'), ('a', 'DT'), ('big', 'JJ'), ('step', 'NN'), ('in', 'IN'), ('one', 'CD'), ('’', 'NN'), ('s', 'NN'), ('life.It', 'NN'), ('is', 'VBZ'), ('both', 'DT'), ('exciting', 'VBG'), ('and', 'CC'), ('frightening', 'NN'), ('But', 'CC'), ('friendship', 'NN'), ('is', 'VBZ'), ('a', 'DT'), ('sacred', 'JJ'), ('bond', 'NN'), ('between', 'IN'), ('people.It', 'NN'), ('is', 'VBZ'), ('a', 'DT'), ('special', 'JJ'), ('kind', 'NN'), ('of', 'IN'), ('love', 'NN'), ('between', 'IN'), ('us', 'PRP'), ('Many', 'JJ'), ('of', 'IN'), ('you', 'PRP'), ('must', 'MD'), ('have', 'VB'), ('tried', 'VBN'), ('searching', 'VBG'), ('for', 'IN'), ('a', 'DT'), ('friend', 'NN'), ('but', 'CC'), ('never', 'RB'), ('found', 'VBD'), ('the', 'DT'), ('right', 'JJ'), ('one', 'NN')]\n"
     ]
    }
   ],
   "source": [
    "# from textblob lib import TextBlob method\n",
    "from textblob import TextBlob\n",
    "\n",
    "text = (\"Sukanya, Rajib and Naba are my good friends. \" +\n",
    "\t\"Sukanya is getting married next year. \" +\n",
    "\t\"Marriage is a big step in one’s life.\" +\n",
    "\t\"It is both exciting and frightening. \" +\n",
    "\t\"But friendship is a sacred bond between people.\" +\n",
    "\t\"It is a special kind of love between us. \" +\n",
    "\t\"Many of you must have tried searching for a friend \"+\n",
    "\t\"but never found the right one.\")\n",
    "\n",
    "# create a textblob object\n",
    "blob_object = TextBlob(text)\n",
    "\n",
    "# Part-of-speech tags can be accessed\n",
    "# through the tags property of blob object.'\n",
    "\n",
    "# print word with pos tag.\n",
    "print(blob_object.tags)\n"
   ]
  },
  {
   "cell_type": "markdown",
   "id": "11ca8cd0",
   "metadata": {},
   "source": [
    "# Basically, the goal of a POS tagger is to assign linguistic (mostly grammatical) information to sub-sentential units. Such units are called tokens and, most of the time, correspond to words and symbols (e.g. punctuation)."
   ]
  },
  {
   "cell_type": "code",
   "execution_count": null,
   "id": "cf955849",
   "metadata": {},
   "outputs": [],
   "source": []
  },
  {
   "cell_type": "code",
   "execution_count": null,
   "id": "2482f82b",
   "metadata": {},
   "outputs": [],
   "source": []
  },
  {
   "cell_type": "markdown",
   "id": "7a5ae771",
   "metadata": {},
   "source": [
    "# Cosine Similarity ==> \n",
    "\n",
    "similarity measure refers to distance with dimensions representing features of the data object, in a dataset. If this distance is less, there will be a high degree of similarity, but when the distance is large, there will be a low degree of similarity. Some of the popular similarity measures are –\n",
    "\n",
    "(1). Euclidean Distance.\n",
    "\n",
    "(2). Manhattan Distance.\n",
    "\n",
    "(3). Jaccard Similarity.\n",
    "\n",
    "(4). Minkowski Distance.\n",
    "\n",
    "(5). Cosine Similarity."
   ]
  },
  {
   "cell_type": "markdown",
   "id": "45a8eac6",
   "metadata": {},
   "source": [
    "# Cosine similarity is a metric, helpful in determining, how similar the data objects are irrespective of their size. We can measure the similarity between two sentences in Python using Cosine Similarity. In cosine similarity, data objects in a dataset are treated as a vector. The formula to find the cosine similarity between two vectors is –"
   ]
  },
  {
   "cell_type": "markdown",
   "id": "92d7eb50",
   "metadata": {},
   "source": [
    "# S_C(x, y) = x . y / ||x|| \\times ||y||"
   ]
  },
  {
   "cell_type": "markdown",
   "id": "ff7917e3",
   "metadata": {},
   "source": [
    "# where,\n",
    "\n",
    "x . y = product (dot) of the vectors ‘x’ and ‘y’.\n",
    "\n",
    "||x|| and ||y|| = length (magnitude) of the two vectors ‘x’ and ‘y’.\n",
    "\n",
    "||x|| \\times ||y|| = regular product of the two vectors ‘x’ and ‘y’."
   ]
  },
  {
   "cell_type": "markdown",
   "id": "88fbd7b8",
   "metadata": {},
   "source": [
    "# Example : Consider an example to find the similarity between two vectors – ‘x’ and ‘y’, using Cosine Similarity. The ‘x’ vector has values, x = { 3, 2, 0, 5 } The ‘y’ vector has values, y = { 1, 0, 0, 0 } The formula for calculating the cosine similarity is : S_C(x, y) = x . y / ||x|| \\times ||y||\n",
    "\n",
    "\n",
    "        \n",
    "x . y = 3*1 + 2*0 + 0*0 + 5*0 = 3\n",
    "\n",
    "||x|| = √ (3)^2 + (2)^2 + (0)^2 + (5)^2 = 6.16\n",
    "\n",
    "||y|| = √ (1)^2 + (0)^2 + (0)^2 + (0)^2 = 1\n",
    "\n",
    "∴ S_C(x, y) = 3 / (6.16 * 1) = 0.49 \n",
    "\n",
    "The dissimilarity between the two vectors ‘x’ and ‘y’ is given by \n",
    "\n",
    "∴ D_C(x, y) = 1 - S_C(x, y) = 1 - 0.49 = 0.51\n",
    "\n",
    "The cosine similarity between two vectors is measured in ‘θ’.\n",
    "If θ = 0°, the ‘x’ and ‘y’ vectors overlap, thus proving they are similar.\n",
    "\n",
    "If θ = 90°, the ‘x’ and ‘y’ vectors are dissimilar.\n",
    "\n",
    "Advantages :\n",
    "\n",
    "(1). The cosine similarity is beneficial because even if the two similar data objects are far apart by the Euclidean distance because of the size, they could still have a smaller angle between them. Smaller the angle, higher the similarity.\n",
    "(2). When plotted on a multi-dimensional space, the cosine similarity captures the orientation (the angle) of the data objects and not the magnitude."
   ]
  },
  {
   "cell_type": "code",
   "execution_count": 26,
   "id": "fc2ff358",
   "metadata": {},
   "outputs": [],
   "source": [
    "# Embedding layers ==> \n",
    "# https://en.wikipedia.org/wiki/Word_embedding\n",
    "# https://en.wikipedia.org/wiki/Word2vec"
   ]
  },
  {
   "cell_type": "code",
   "execution_count": null,
   "id": "6ace02cc",
   "metadata": {},
   "outputs": [],
   "source": []
  },
  {
   "cell_type": "code",
   "execution_count": null,
   "id": "3ee3fb86",
   "metadata": {},
   "outputs": [],
   "source": []
  },
  {
   "cell_type": "code",
   "execution_count": null,
   "id": "176cfe65",
   "metadata": {},
   "outputs": [],
   "source": []
  },
  {
   "cell_type": "code",
   "execution_count": null,
   "id": "a0b9242e",
   "metadata": {},
   "outputs": [],
   "source": []
  },
  {
   "cell_type": "code",
   "execution_count": null,
   "id": "b1192ff7",
   "metadata": {},
   "outputs": [],
   "source": []
  },
  {
   "cell_type": "code",
   "execution_count": null,
   "id": "a034cd5b",
   "metadata": {},
   "outputs": [],
   "source": []
  }
 ],
 "metadata": {
  "kernelspec": {
   "display_name": "Python 3 (ipykernel)",
   "language": "python",
   "name": "python3"
  },
  "language_info": {
   "codemirror_mode": {
    "name": "ipython",
    "version": 3
   },
   "file_extension": ".py",
   "mimetype": "text/x-python",
   "name": "python",
   "nbconvert_exporter": "python",
   "pygments_lexer": "ipython3",
   "version": "3.10.9"
  }
 },
 "nbformat": 4,
 "nbformat_minor": 5
}
