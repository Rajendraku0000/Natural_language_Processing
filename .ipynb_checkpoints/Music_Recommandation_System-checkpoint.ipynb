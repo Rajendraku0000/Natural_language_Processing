{
 "cells": [
  {
   "cell_type": "code",
   "execution_count": null,
   "metadata": {
    "id": "8UVgD2K0Tnf8"
   },
   "outputs": [],
   "source": [
    "import numpy as np"
   ]
  },
  {
   "cell_type": "markdown",
   "metadata": {
    "id": "VJDulsQWfPDL"
   },
   "source": [
    "How Does a Music Recommendation System Work?\n",
    "\n",
    "\n",
    "\n",
    "\n",
    "Music Recommendation Systems operate through intricate algorithms that analyze vast amounts of data about users’ musical interactions, such as their listening history, liked tracks, skipped songs, and even explicit user preferences conveyed through ratings or feedback. These data points are instrumental in constructing comprehensive user profiles, delineating individual tastes and preferences.\n",
    "\n",
    "\n",
    "\n",
    "In the initial phase, the system employs various data preprocessing techniques to cleanse and organize the information efficiently. Subsequently, the system uses recommendation algorithms, such as collaborative filtering, content-based filtering, and hybrid approaches, to generate music recommendations.\n",
    "\n",
    "\n",
    "\n",
    "As users continually interact with the system, it accumulates additional data, refining and updating their profiles in real time. Consequently, the recommendations become increasingly precise and aligned with the user’s evolving musical preferences.\n",
    "\n",
    "What is Spotify API & How to build a Music Recommendation System using Spotify API?\n",
    "\n",
    "\n",
    "\n",
    "\n",
    "The Spotify API is a set of rules and protocols provided by Spotify developers. It enables developers to interact with Spotify’s vast music catalogue and collect music-related data. Through the Spotify API, developers can access information such as tracks, albums, artists, playlists, user profiles, and play history, among other features, empowering them to build innovative applications and services that integrate seamlessly with the Spotify platform.\n",
    "\n",
    "\n",
    "\n",
    "To build a Music Recommendation System using the Spotify API, we are required to collect real-time music data from Spotify. For this task, we need a Spotify developer account to get our credentials from Spotify to access their data.\n",
    "\n",
    "Below is the process you can follow to sign up for the Spotify developer account and get your credentials.\n",
    "\n",
    "Step 1: Create a Spotify Account\n",
    "For a Spotify developer account, you need an account at Spotify. If you don’t use Spotify, create an account. You don’t need to purchase any subscription to get your credentials. Once you have created an account at Spotify (or you already have one) log in to your account from your web browser.\n",
    "\n",
    "Step 2: Go to Your Spotify Developer Dashboard\n",
    "Once you have created an account at Spotify, you need to log in to your Spotify developer dashboard. Here’s the link to the dashboard(\"https://developer.spotify.com/dashboard\"). As you will be using this developer account for the first time, sign the agreement and verify your email. After these steps, we can move to the next step."
   ]
  },
  {
   "cell_type": "markdown",
   "metadata": {
    "id": "iz-dIPkjf3JE"
   },
   "source": [
    "Step 3: Create An App\n",
    "\n",
    "\n",
    "\n",
    "Once you have verified an email, you will see an option to create an app in your dashboard\n",
    "\n",
    "\n",
    "Step 4: App Description\n",
    "\n",
    "\n",
    "Fill in the app description\n",
    "\n",
    "App Name = Reocmmandation System you can choose any app name\n",
    "\n",
    "App description = Using Spotify music data to build a music recommandation system .\n",
    "\n",
    "Website = statso.io\n",
    "\n",
    "Redirect URL = statso.io"
   ]
  },
  {
   "cell_type": "markdown",
   "metadata": {
    "id": "JSyPNRKBgjB4"
   },
   "source": [
    "Step 5: Copy Your Client ID and Client Secret\n",
    "\n",
    "\n",
    "\n",
    "After filling in the app description, you will be redirected to your id and password. If you click “View client secret”, you will see your password.\n",
    "\n",
    "\n"
   ]
  },
  {
   "cell_type": "markdown",
   "metadata": {
    "id": "VVPIr5aXguUc"
   },
   "source": [
    "To get started with building a Music Recommendation System, we first need to have an access token. The access token serves as a temporary authorization credential, allowing the code to make authenticated requests to the Spotify API on behalf of the application.\n",
    "\n",
    "\n",
    "\n"
   ]
  },
  {
   "cell_type": "code",
   "execution_count": null,
   "metadata": {
    "colab": {
     "base_uri": "https://localhost:8080/"
    },
    "id": "FInpI__KTpLJ",
    "outputId": "8019cbb9-5009-4382-ef56-e0fbf2d113ab"
   },
   "outputs": [
    {
     "name": "stdout",
     "output_type": "stream",
     "text": [
      "Access token obtained successfully.\n"
     ]
    }
   ],
   "source": [
    "import requests\n",
    "import base64\n",
    "\n",
    "# Replace with your own Client ID and Client Secret\n",
    "CLIENT_ID = '74d430540a8b4d25ac193111a5c77239'\n",
    "CLIENT_SECRET = '56a875fe84e84392814b6aced5b81425'\n",
    "\n",
    "# Base64 encode the client ID and client secret\n",
    "client_credentials = f\"{CLIENT_ID}:{CLIENT_SECRET}\"\n",
    "client_credentials_base64 = base64.b64encode(client_credentials.encode())\n",
    "\n",
    "# Request the access token\n",
    "token_url = 'https://accounts.spotify.com/api/token'\n",
    "headers = {\n",
    "    'Authorization': f'Basic {client_credentials_base64.decode()}'\n",
    "}\n",
    "data = {\n",
    "    'grant_type': 'client_credentials'\n",
    "}\n",
    "response = requests.post(token_url, data=data, headers=headers)\n",
    "\n",
    "if response.status_code == 200:\n",
    "    access_token = response.json()['access_token']\n",
    "    print(\"Access token obtained successfully.\")\n",
    "else:\n",
    "    print(\"Error obtaining access token.\")\n",
    "    exit()"
   ]
  },
  {
   "cell_type": "markdown",
   "metadata": {
    "id": "9GnJrTEXg7FN"
   },
   "source": [
    "The CLIENT_ID and CLIENT_SECRET variables hold my credentials (you need to add your credentials in these variables) that uniquely identify the application making requests to the Spotify API. These credentials are obtained when a developer registers their application with Spotify’s developer dashboard. The Client ID identifies the application, while the Client Secret is a confidential key used for authentication.\n",
    "\n",
    "\n"
   ]
  },
  {
   "cell_type": "markdown",
   "metadata": {
    "id": "J-BruXhWhL2_"
   },
   "source": [
    "The client ID and secret are combined in the client_credentials variable, separated by a colon (:). Then, this string is encoded using Base64 encoding to create a secure representation of the credentials. We then proceed to request an access token from the Spotify API.\n",
    "\n",
    "\n",
    "\n",
    "\n",
    "It sends a POST request to the token_url (https://accounts.spotify.com/api/token) with the client credentials in the Authorization header, which is required for client authentication. The grant_type parameter is set to ‘client_credentials’ to indicate that the application is requesting an access token for the client credentials flow.\n",
    "\n",
    "\n",
    "\n",
    "\n",
    "\n",
    "With the access token, the application can now make authorized requests to retrieve music data, such as tracks, albums, artists, and user information, which is fundamental for building a music recommendation system using the Spotify API .\n",
    "\n",
    "\n",
    "\n",
    "\n",
    "Now, I’ll write a function to get music data from any playlist on Spotify. For this task, you need to install the Spotipy library, which is a Python library providing access to Spotify’s web API."
   ]
  },
  {
   "cell_type": "markdown",
   "metadata": {
    "id": "01fcW2y3hSGQ"
   },
   "source": []
  },
  {
   "cell_type": "code",
   "execution_count": null,
   "metadata": {
    "colab": {
     "base_uri": "https://localhost:8080/"
    },
    "id": "zNGMgG5FT2Iu",
    "outputId": "690fcc91-22af-42d2-bd0d-f3d6ecdd5ff5"
   },
   "outputs": [
    {
     "name": "stdout",
     "output_type": "stream",
     "text": [
      "Requirement already satisfied: spotify in /usr/local/lib/python3.10/dist-packages (0.10.2)\n",
      "Requirement already satisfied: aiohttp<4.0,>=3.6 in /usr/local/lib/python3.10/dist-packages (from spotify) (3.8.5)\n",
      "Requirement already satisfied: backoff<2.0.0,>=1.10.0 in /usr/local/lib/python3.10/dist-packages (from spotify) (1.11.1)\n",
      "Requirement already satisfied: attrs>=17.3.0 in /usr/local/lib/python3.10/dist-packages (from aiohttp<4.0,>=3.6->spotify) (23.1.0)\n",
      "Requirement already satisfied: charset-normalizer<4.0,>=2.0 in /usr/local/lib/python3.10/dist-packages (from aiohttp<4.0,>=3.6->spotify) (2.0.12)\n",
      "Requirement already satisfied: multidict<7.0,>=4.5 in /usr/local/lib/python3.10/dist-packages (from aiohttp<4.0,>=3.6->spotify) (6.0.4)\n",
      "Requirement already satisfied: async-timeout<5.0,>=4.0.0a3 in /usr/local/lib/python3.10/dist-packages (from aiohttp<4.0,>=3.6->spotify) (4.0.2)\n",
      "Requirement already satisfied: yarl<2.0,>=1.0 in /usr/local/lib/python3.10/dist-packages (from aiohttp<4.0,>=3.6->spotify) (1.9.2)\n",
      "Requirement already satisfied: frozenlist>=1.1.1 in /usr/local/lib/python3.10/dist-packages (from aiohttp<4.0,>=3.6->spotify) (1.4.0)\n",
      "Requirement already satisfied: aiosignal>=1.1.2 in /usr/local/lib/python3.10/dist-packages (from aiohttp<4.0,>=3.6->spotify) (1.3.1)\n",
      "Requirement already satisfied: idna>=2.0 in /usr/local/lib/python3.10/dist-packages (from yarl<2.0,>=1.0->aiohttp<4.0,>=3.6->spotify) (3.4)\n"
     ]
    }
   ],
   "source": [
    "!pip install spotify"
   ]
  },
  {
   "cell_type": "code",
   "execution_count": null,
   "metadata": {
    "colab": {
     "base_uri": "https://localhost:8080/"
    },
    "id": "g3IUTqlNVIlu",
    "outputId": "a2fcf7eb-6814-47e5-ea01-78e00141bc5c"
   },
   "outputs": [
    {
     "name": "stdout",
     "output_type": "stream",
     "text": [
      "Collecting spotipy\n",
      "  Downloading spotipy-2.23.0-py3-none-any.whl (29 kB)\n",
      "Collecting redis>=3.5.3 (from spotipy)\n",
      "  Downloading redis-4.6.0-py3-none-any.whl (241 kB)\n",
      "\u001b[2K     \u001b[90m━━━━━━━━━━━━━━━━━━━━━━━━━━━━━━━━━━━━━━━\u001b[0m \u001b[32m241.1/241.1 kB\u001b[0m \u001b[31m4.1 MB/s\u001b[0m eta \u001b[36m0:00:00\u001b[0m\n",
      "\u001b[?25hRequirement already satisfied: requests>=2.25.0 in /usr/local/lib/python3.10/dist-packages (from spotipy) (2.27.1)\n",
      "Requirement already satisfied: six>=1.15.0 in /usr/local/lib/python3.10/dist-packages (from spotipy) (1.16.0)\n",
      "Requirement already satisfied: urllib3>=1.26.0 in /usr/local/lib/python3.10/dist-packages (from spotipy) (1.26.16)\n",
      "Requirement already satisfied: async-timeout>=4.0.2 in /usr/local/lib/python3.10/dist-packages (from redis>=3.5.3->spotipy) (4.0.2)\n",
      "Requirement already satisfied: certifi>=2017.4.17 in /usr/local/lib/python3.10/dist-packages (from requests>=2.25.0->spotipy) (2023.7.22)\n",
      "Requirement already satisfied: charset-normalizer~=2.0.0 in /usr/local/lib/python3.10/dist-packages (from requests>=2.25.0->spotipy) (2.0.12)\n",
      "Requirement already satisfied: idna<4,>=2.5 in /usr/local/lib/python3.10/dist-packages (from requests>=2.25.0->spotipy) (3.4)\n",
      "Installing collected packages: redis, spotipy\n",
      "Successfully installed redis-4.6.0 spotipy-2.23.0\n"
     ]
    }
   ],
   "source": [
    "!pip install spotipy"
   ]
  },
  {
   "cell_type": "code",
   "execution_count": null,
   "metadata": {
    "id": "haiPOC_FT78U"
   },
   "outputs": [],
   "source": [
    "import pandas as pd\n",
    "\n",
    "import spotipy\n",
    "\n",
    "from spotipy.oauth2 import SpotifyOAuth\n",
    "\n",
    "\n",
    "def get_trending_playlist_data(playlist_id, access_token):\n",
    "\n",
    "    # Set up Spotipy with the access token\n",
    "\n",
    "    sp = spotipy.Spotify(auth=access_token)\n",
    "\n",
    "\n",
    "    # Get the tracks from the playlist\n",
    "\n",
    "    playlist_tracks = sp.playlist_tracks(playlist_id, fields='items(track(id, name, artists, album(id, name)))')\n",
    "\n",
    "\n",
    "\n",
    "    # Extract relevant information and store in a list of dictionaries\n",
    "\n",
    "    music_data = []\n",
    "\n",
    "    for track_info in playlist_tracks['items']:\n",
    "\n",
    "        track = track_info['track']\n",
    "\n",
    "        track_name = track['name']\n",
    "\n",
    "        artists = ', '.join([artist['name'] for artist in track['artists']])\n",
    "\n",
    "        album_name = track['album']['name']\n",
    "\n",
    "        album_id = track['album']['id']\n",
    "\n",
    "        track_id = track['id']\n",
    "\n",
    "\n",
    "        # Get audio features for the track\n",
    "\n",
    "        audio_features = sp.audio_features(track_id)[0] if track_id != 'Not available' else None\n",
    "\n",
    "\n",
    "\n",
    "        # Get release date of the album\n",
    "\n",
    "        try:\n",
    "\n",
    "            album_info = sp.album(album_id) if album_id != 'Not available' else None\n",
    "\n",
    "            release_date = album_info['release_date'] if album_info else None\n",
    "\n",
    "        except:\n",
    "\n",
    "            release_date = None\n",
    "\n",
    "\n",
    "        # Get popularity of the track\n",
    "        try:\n",
    "            track_info = sp.track(track_id) if track_id != 'Not available' else None\n",
    "\n",
    "            popularity = track_info['popularity'] if track_info else None\n",
    "\n",
    "        except:\n",
    "\n",
    "            popularity = None\n",
    "\n",
    "\n",
    "\n",
    "        # Add additional track information to the track data\n",
    "\n",
    "        track_data = {\n",
    "\n",
    "            'Track Name': track_name,\n",
    "\n",
    "            'Artists': artists,\n",
    "\n",
    "            'Album Name': album_name,\n",
    "\n",
    "            'Album ID': album_id,\n",
    "\n",
    "            'Track ID': track_id,\n",
    "\n",
    "            'Popularity': popularity,\n",
    "\n",
    "            'Release Date': release_date,\n",
    "\n",
    "            'Duration (ms)': audio_features['duration_ms'] if audio_features else None,\n",
    "\n",
    "            'Explicit': track_info.get('explicit', None),\n",
    "\n",
    "            'External URLs': track_info.get('external_urls', {}).get('spotify', None),\n",
    "\n",
    "            'Danceability': audio_features['danceability'] if audio_features else None,\n",
    "\n",
    "            'Energy': audio_features['energy'] if audio_features else None,\n",
    "\n",
    "            'Key': audio_features['key'] if audio_features else None,\n",
    "\n",
    "            'Loudness': audio_features['loudness'] if audio_features else None,\n",
    "\n",
    "            'Mode': audio_features['mode'] if audio_features else None,\n",
    "\n",
    "            'Speechiness': audio_features['speechiness'] if audio_features else None,\n",
    "\n",
    "            'Acousticness': audio_features['acousticness'] if audio_features else None,\n",
    "\n",
    "            'Instrumentalness': audio_features['instrumentalness'] if audio_features else None,\n",
    "\n",
    "            'Liveness': audio_features['liveness'] if audio_features else None,\n",
    "\n",
    "            'Valence': audio_features['valence'] if audio_features else None,\n",
    "\n",
    "            'Tempo': audio_features['tempo'] if audio_features else None,\n",
    "\n",
    "            # Add more attributes as needed\n",
    "\n",
    "        }\n",
    "\n",
    "\n",
    "\n",
    "        music_data.append(track_data)\n",
    "\n",
    "\n",
    "    # Create a pandas DataFrame from the list of dictionaries\n",
    "\n",
    "    df = pd.DataFrame(music_data)\n",
    "\n",
    "\n",
    "    return df"
   ]
  },
  {
   "cell_type": "markdown",
   "metadata": {
    "id": "tnzNGKw2hax5"
   },
   "source": [
    "The function begins by initializing the Spotipy client with the provided access_token, which serves as the authentication token to interact with the Spotify Web API. The access_token allows the function to make authorized requests to access Spotify’s resources. The function then uses the Spotipy client to fetch information about the tracks in the specified playlist (identified by its playlist_id). The sp.playlist_tracks method retrieves the playlist tracks. The fields parameter is used to specify the specific track information that is required, such as track ID, name, artists, album ID, and album name.\n",
    "\n",
    "\n",
    "\n",
    "The function then extracts relevant information from the retrieved playlist tracks and stores it in a list of dictionaries called music_data. For each track in the playlist, the function extracts data such as track name, artists (combined into a single string), album name, album ID, track ID, and popularity. The function uses the sp.audio_features method to fetch audio features for each track in the playlist. These audio features include attributes like danceability, energy, key, loudness, speechiness, acousticness, instrumentalness, liveness, valence, tempo, etc. These audio features provide insights into the characteristics of each track.\n",
    "\n",
    "\n",
    "\n",
    "\n",
    "The extracted information for all tracks is stored in the music_data list. The function then creates a DataFrame from the music_data list. The DataFrame organizes the music data in a tabular format, making it easier to analyze and work with the collected information."
   ]
  },
  {
   "cell_type": "code",
   "execution_count": null,
   "metadata": {
    "colab": {
     "base_uri": "https://localhost:8080/"
    },
    "id": "NRRWDMNtVBnY",
    "outputId": "6ff2d647-8369-4fdb-d206-583189576732"
   },
   "outputs": [
    {
     "name": "stdout",
     "output_type": "stream",
     "text": [
      "                               Track Name  \\\n",
      "0                         I'm Good (Blue)   \n",
      "1                      Boy's a Liar Pt. 2   \n",
      "2   Quevedo: Bzrp Music Sessions, Vol. 52   \n",
      "3                         Me Porto Bonito   \n",
      "4                             El Merengue   \n",
      "..                                    ...   \n",
      "95                       PLAYA DEL INGLÉS   \n",
      "96                   Marianela (Que Pasa)   \n",
      "97                   Lionheart (Fearless)   \n",
      "98      family ties (with Kendrick Lamar)   \n",
      "99              Levitating (feat. DaBaby)   \n",
      "\n",
      "                                     Artists  \\\n",
      "0                   David Guetta, Bebe Rexha   \n",
      "1                  PinkPantheress, Ice Spice   \n",
      "2                          Bizarrap, Quevedo   \n",
      "3                Bad Bunny, Chencho Corleone   \n",
      "4                  Marshmello, Manuel Turizo   \n",
      "..                                       ...   \n",
      "95                      Quevedo, Myke Towers   \n",
      "96  HUGEL, Merk & Kremont, Lirico En La Casa   \n",
      "97                   Joel Corry, Tom Grennan   \n",
      "98                 Baby Keem, Kendrick Lamar   \n",
      "99                          Dua Lipa, DaBaby   \n",
      "\n",
      "                               Album Name                Album ID  \\\n",
      "0                         I'm Good (Blue)  7M842DMhYVALrXsw3ty7B3   \n",
      "1                      Boy's a liar Pt. 2  6cVfHBcp3AdpYY0bBglkLN   \n",
      "2   Quevedo: Bzrp Music Sessions, Vol. 52  4PNqWiJAfjj32hVvlchV5u   \n",
      "3                        Un Verano Sin Ti  3RQQmkQEvNCY4prGKE6oc5   \n",
      "4                             El Merengue  6sU751LOdNBPvVErW1GunP   \n",
      "..                                    ...                     ...   \n",
      "95                       PLAYA DEL INGLÉS  1MgW79L1nRyxWHOCu4nxR9   \n",
      "96                   Marianela (Que Pasa)  5As1VmPUMn4HIgYSbFD6l0   \n",
      "97                   Lionheart (Fearless)  68U7caniDmdQHifJdnlYFT   \n",
      "98      family ties (with Kendrick Lamar)  3HqmX8hGcbbQZODgayNEYx   \n",
      "99              Levitating (feat. DaBaby)  04m06KhJUuwe1Q487puIud   \n",
      "\n",
      "                  Track ID  Popularity Release Date  Duration (ms)  Explicit  \\\n",
      "0   4uUG5RXrOk84mYEfFvj3cK          94   2022-08-26         175238      True   \n",
      "1   6AQbmUe0Qwf5PZnt4HmTXv          93   2023-02-03         131013     False   \n",
      "2   2tTmW7RDtMQtBk7m2rYeSw          92   2022-07-06         198938     False   \n",
      "3   6Sq7ltF9Qa7SNFBsV5Cogx          92   2022-05-06         178567      True   \n",
      "4   51FvjPEGKq2zByeeEQ43V9          92   2023-03-03         189357     False   \n",
      "..                     ...         ...          ...            ...       ...   \n",
      "95  2t6IxTASaSFkZEt61tQ6W6          77   2022-12-15         237525     False   \n",
      "96  5bZjb7xKqLqa58QiUBcVvl          77   2022-11-25         145766     False   \n",
      "97  5vlzH0ps6WDyb158oFTAb3          77   2022-10-21         186689     False   \n",
      "98  7Bpx2vsWfQFBACRz4h3IqH          77   2021-08-27         252070      True   \n",
      "99  463CkQjx2Zk1yXoBuierM9          77   2020-10-01         203064     False   \n",
      "\n",
      "                                        External URLs  ...  Energy  Key  \\\n",
      "0   https://open.spotify.com/track/4uUG5RXrOk84mYE...  ...   0.965    7   \n",
      "1   https://open.spotify.com/track/6AQbmUe0Qwf5PZn...  ...   0.809    5   \n",
      "2   https://open.spotify.com/track/2tTmW7RDtMQtBk7...  ...   0.782    2   \n",
      "3   https://open.spotify.com/track/6Sq7ltF9Qa7SNFB...  ...   0.712    1   \n",
      "4   https://open.spotify.com/track/51FvjPEGKq2zBye...  ...   0.677    8   \n",
      "..                                                ...  ...     ...  ...   \n",
      "95  https://open.spotify.com/track/2t6IxTASaSFkZEt...  ...   0.736    7   \n",
      "96  https://open.spotify.com/track/5bZjb7xKqLqa58Q...  ...   0.893    1   \n",
      "97  https://open.spotify.com/track/5vlzH0ps6WDyb15...  ...   0.967    8   \n",
      "98  https://open.spotify.com/track/7Bpx2vsWfQFBACR...  ...   0.611    1   \n",
      "99  https://open.spotify.com/track/463CkQjx2Zk1yXo...  ...   0.825    6   \n",
      "\n",
      "    Loudness  Mode  Speechiness  Acousticness  Instrumentalness  Liveness  \\\n",
      "0     -3.673     0       0.0343       0.00383          0.000007    0.3710   \n",
      "1     -8.254     1       0.0500       0.25200          0.000128    0.2480   \n",
      "2     -5.548     1       0.0440       0.01250          0.033000    0.2300   \n",
      "3     -5.105     0       0.0817       0.09010          0.000027    0.0933   \n",
      "4     -4.703     0       0.0442       0.03130          0.005170    0.1120   \n",
      "..       ...   ...          ...           ...               ...       ...   \n",
      "95    -3.254     0       0.0469       0.08220          0.000000    0.1090   \n",
      "96    -3.344     1       0.0496       0.03300          0.005350    0.0811   \n",
      "97    -2.430     1       0.0538       0.02170          0.001570    0.3360   \n",
      "98    -5.453     1       0.3290       0.00575          0.000000    0.2310   \n",
      "99    -3.787     0       0.0601       0.00883          0.000000    0.0674   \n",
      "\n",
      "    Valence    Tempo  \n",
      "0     0.304  128.040  \n",
      "1     0.857  132.962  \n",
      "2     0.550  128.033  \n",
      "3     0.425   92.005  \n",
      "4     0.698  124.011  \n",
      "..      ...      ...  \n",
      "95    0.656  112.993  \n",
      "96    0.602  124.043  \n",
      "97    0.349  125.982  \n",
      "98    0.144  134.140  \n",
      "99    0.915  102.977  \n",
      "\n",
      "[100 rows x 21 columns]\n"
     ]
    }
   ],
   "source": [
    "playlist_id = '37i9dQZF1DX76Wlfdnj7AP'\n",
    "\n",
    "# Call the function to get the music data from the playlist and store it in a DataFrame\n",
    "music_df = get_trending_playlist_data(playlist_id, access_token)\n",
    "\n",
    "# Display the DataFrame\n",
    "print(music_df)"
   ]
  },
  {
   "cell_type": "markdown",
   "metadata": {
    "id": "JOPeXN1ehluM"
   },
   "source": [
    "In this code snippet, we used a playlist ID: “37i9dQZF1DX76Wlfdnj7AP”. The code then calls the get_trending_playlist_data function to extract music data from the specified playlist using the provided access_token. The collected music data is stored in a DataFrame named music_df. Finally, the code prints the DataFrame to display the extracted music data.\n",
    "\n",
    "\n",
    "\n",
    "\n",
    "You can also add your playlist id here. If your playlist link is (https://open.spotify.com/playlist/37i9dQZF1DX76Wlfdnj7AP), the playlist ID is “37i9dQZF1DX76Wlfdnj7AP”, which is what you would replace with my playlist id within the above code snippet.\n",
    "\n"
   ]
  },
  {
   "cell_type": "code",
   "execution_count": null,
   "metadata": {
    "colab": {
     "base_uri": "https://localhost:8080/"
    },
    "id": "qCpupaeFVSow",
    "outputId": "6d31acee-0fa7-4488-f365-72f3e38af5f0"
   },
   "outputs": [
    {
     "name": "stdout",
     "output_type": "stream",
     "text": [
      "Track Name          0\n",
      "Artists             0\n",
      "Album Name          0\n",
      "Album ID            0\n",
      "Track ID            0\n",
      "Popularity          0\n",
      "Release Date        0\n",
      "Duration (ms)       0\n",
      "Explicit            0\n",
      "External URLs       0\n",
      "Danceability        0\n",
      "Energy              0\n",
      "Key                 0\n",
      "Loudness            0\n",
      "Mode                0\n",
      "Speechiness         0\n",
      "Acousticness        0\n",
      "Instrumentalness    0\n",
      "Liveness            0\n",
      "Valence             0\n",
      "Tempo               0\n",
      "dtype: int64\n"
     ]
    }
   ],
   "source": [
    "print(music_df.isnull().sum())"
   ]
  },
  {
   "cell_type": "code",
   "execution_count": null,
   "metadata": {
    "id": "9H5S3V53Vi-B"
   },
   "outputs": [],
   "source": [
    "import pandas as pd\n",
    "import numpy as np\n",
    "from sklearn.model_selection import train_test_split\n",
    "from sklearn.preprocessing import MinMaxScaler\n",
    "from datetime import datetime\n",
    "from sklearn.metrics.pairwise import cosine_similarity\n",
    "\n",
    "data = music_df"
   ]
  },
  {
   "cell_type": "markdown",
   "metadata": {
    "id": "5DUC8qD0hurr"
   },
   "source": [
    "While providing music recommendations to users, it is important to recommend the latest releases. For this, we need to give more weight to the latest releases in the recommendations. Let’s write a function to solve this problem:"
   ]
  },
  {
   "cell_type": "code",
   "execution_count": null,
   "metadata": {
    "id": "iUAiGMb2Vox9"
   },
   "outputs": [],
   "source": [
    "# Function to calculate weighted popularity scores based on release date\n",
    "def calculate_weighted_popularity(release_date):\n",
    "    # Convert the release date to datetime object\n",
    "    release_date = datetime.strptime(release_date, '%Y-%m-%d')\n",
    "\n",
    "    # Calculate the time span between release date and today's date\n",
    "    time_span = datetime.now() - release_date\n",
    "\n",
    "    # Calculate the weighted popularity score based on time span (e.g., more recent releases have higher weight)\n",
    "    weight = 1 / (time_span.days + 1)\n",
    "    return weight"
   ]
  },
  {
   "cell_type": "markdown",
   "metadata": {
    "id": "2KcKqy7Rh1lx"
   },
   "source": [
    "The above function takes the release date of a music track as input, which is provided in the format ‘YYYY-MM-DD’. It then uses the datetime.strptime function from the Python datetime module to convert the release date string to a datetime object. This conversion allows us to perform arithmetic operations with dates. The function then calculates the time span between the release date of the track and the current date (today’s date) using datetime.now() – release_date. This results in a timedelta object representing the time difference between the two dates.\n",
    "\n",
    "\n",
    "\n",
    "\n",
    "The weighted popularity score is computed based on the time span. The formula to calculate the weight is 1 / (time_span.days + 1). The time_span.days attribute of the timedelta object gives the number of days in the time span between the release date and today. Adding 1 to the number of days ensures that the weight is never zero, even for very recent releases, as this would lead to a division by zero error.\n",
    "\n",
    "\n",
    "\n",
    "\n",
    "The idea behind this formula is that the weight decreases as the time span between the release date and today increases. More recent releases will have a higher weight, while older releases will have a lower weight. As a result, when combining this weighted popularity score with other factors in a recommendation system, recent tracks will have a more significant impact on the final recommendations, reflecting users’ potential interest in newer music.\n",
    "\n"
   ]
  },
  {
   "cell_type": "code",
   "execution_count": null,
   "metadata": {
    "id": "TSNhwvlceB1l"
   },
   "outputs": [],
   "source": [
    "# Normalize the music features using Min-Max scaling\n",
    "scaler = MinMaxScaler()\n",
    "music_features = music_df[['Danceability', 'Energy', 'Key',\n",
    "                           'Loudness', 'Mode', 'Speechiness', 'Acousticness',\n",
    "                           'Instrumentalness', 'Liveness', 'Valence', 'Tempo']].values\n",
    "music_features_scaled = scaler.fit_transform(music_features)"
   ]
  },
  {
   "cell_type": "markdown",
   "metadata": {
    "id": "OkRqE3UBh9Vm"
   },
   "source": [
    "We will create a hybrid recommendation system for music recommendations. The first approach will be based on recommending music based on music audio features, and the second approach will be based on recommending music based on weighted popularity."
   ]
  },
  {
   "cell_type": "markdown",
   "metadata": {
    "id": "-Xo8UB8ziGsi"
   },
   "source": [
    "Here’s how to generate music recommendations based on the music audio features:"
   ]
  },
  {
   "cell_type": "code",
   "execution_count": null,
   "metadata": {
    "id": "b3RtRPH8VxSU"
   },
   "outputs": [],
   "source": [
    "# a function to get content-based recommendations based on music features\n",
    "def content_based_recommendations(input_song_name, num_recommendations=5):\n",
    "    if input_song_name not in music_df['Track Name'].values:\n",
    "        print(f\"'{input_song_name}' not found in the dataset. Please enter a valid song name.\")\n",
    "        return\n",
    "\n",
    "    # Get the index of the input song in the music DataFrame\n",
    "    input_song_index = music_df[music_df['Track Name'] == input_song_name].index[0]\n",
    "\n",
    "    # Calculate the similarity scores based on music features (cosine similarity)\n",
    "    similarity_scores = cosine_similarity([music_features_scaled[input_song_index]], music_features_scaled)\n",
    "\n",
    "    # Get the indices of the most similar songs\n",
    "    similar_song_indices = similarity_scores.argsort()[0][::-1][1:num_recommendations + 1]\n",
    "\n",
    "    # Get the names of the most similar songs based on content-based filtering\n",
    "    content_based_recommendations = music_df.iloc[similar_song_indices][['Track Name', 'Artists', 'Album Name', 'Release Date', 'Popularity']]\n",
    "\n",
    "    return content_based_recommendations"
   ]
  },
  {
   "cell_type": "markdown",
   "metadata": {
    "id": "aOkCOI38jqrz"
   },
   "source": [
    "The above function takes input_song_name as the input, which represents the name of the song for which recommendations are to be generated. The function checks if the input_song_name exists in the music_df DataFrame, which presumably contains the music data with features like ‘Track Name’, ‘Artists’, ‘Album Name’, ‘Release Date’, and ‘Popularity’. If the input song name is found in the music_df DataFrame, the function retrieves the index of the input song in the DataFrame. This index will be used to compare the audio features of the input song with other songs in the dataset.\n",
    "\n",
    "\n",
    "\n",
    "The function calculates the similarity scores between the audio features of the input song and all other songs in the dataset. It uses cosine similarity, a common measure used in content-based filtering. The cosine_similarity function from scikit-learn is employed to compute these similarity scores.\n",
    "\n",
    "\n",
    "\n",
    "The function identifies the num_recommendations most similar songs to the input song based on their audio features. It does this by sorting the similarity scores in descending order and selecting the top num_recommendations songs. The input song itself is excluded from the recommendations (hence the [1:num_recommendations + 1] slicing). The function then extracts the details (such as track name, artists, album name, release date, and popularity) of the most similar songs from the music_df DataFrame using the indices of the most similar songs.\n",
    "\n",
    "\n",
    "\n",
    "Now here’s the function to generate music recommendations based on weighted popularity and combine it with the recommendations of the content-based filtering method using the hybrid approach:"
   ]
  },
  {
   "cell_type": "code",
   "execution_count": null,
   "metadata": {
    "id": "aUWlfTJjV19o"
   },
   "outputs": [],
   "source": [
    "# a function to get hybrid recommendations based on weighted popularity\n",
    "def hybrid_recommendations(input_song_name, num_recommendations=5, alpha=0.5):\n",
    "    if input_song_name not in music_df['Track Name'].values:\n",
    "        print(f\"'{input_song_name}' not found in the dataset. Please enter a valid song name.\")\n",
    "        return\n",
    "\n",
    "    # Get content-based recommendations\n",
    "    content_based_rec = content_based_recommendations(input_song_name, num_recommendations)\n",
    "\n",
    "    # Get the popularity score of the input song\n",
    "    popularity_score = music_df.loc[music_df['Track Name'] == input_song_name, 'Popularity'].values[0]\n",
    "\n",
    "    # Calculate the weighted popularity score\n",
    "    weighted_popularity_score = popularity_score * calculate_weighted_popularity(music_df.loc[music_df['Track Name'] == input_song_name, 'Release Date'].values[0])\n",
    "\n",
    "    # Combine content-based and popularity-based recommendations based on weighted popularity\n",
    "    hybrid_recommendations = content_based_rec\n",
    "    hybrid_recommendations = hybrid_recommendations.append({\n",
    "        'Track Name': input_song_name,\n",
    "        'Artists': music_df.loc[music_df['Track Name'] == input_song_name, 'Artists'].values[0],\n",
    "        'Album Name': music_df.loc[music_df['Track Name'] == input_song_name, 'Album Name'].values[0],\n",
    "        'Release Date': music_df.loc[music_df['Track Name'] == input_song_name, 'Release Date'].values[0],\n",
    "        'Popularity': weighted_popularity_score\n",
    "    }, ignore_index=True)\n",
    "\n",
    "    # Sort the hybrid recommendations based on weighted popularity score\n",
    "    hybrid_recommendations = hybrid_recommendations.sort_values(by='Popularity', ascending=False)\n",
    "\n",
    "    # Remove the input song from the recommendations\n",
    "    hybrid_recommendations = hybrid_recommendations[hybrid_recommendations['Track Name'] != input_song_name]\n",
    "\n",
    "\n",
    "    return hybrid_recommendations\n",
    "\n",
    "\n"
   ]
  },
  {
   "cell_type": "markdown",
   "metadata": {
    "id": "7I9rZof_kagP"
   },
   "source": [
    "The hybrid approach aims to provide more personalized and relevant recommendations by considering both the content similarity of songs and their weighted popularity. The function takes input_song_name as the input, representing the name of the song for which recommendations are to be generated. The function first calls the content_based_recommendations function to get content-based recommendations for the input song. The num_recommendations parameter determines the number of content-based recommendations to be retrieved.\n",
    "\n",
    "\n",
    "\n",
    "\n",
    "\n",
    "The function calculates the popularity score of the input song by retrieving the popularity value from the music_df DataFrame. It also calculates the weighted popularity score using the calculate_weighted_popularity function (previously defined) based on the release date of the input song. The alpha parameter controls the relative importance of content-based and popularity-based recommendations.\n",
    "\n",
    "\n",
    "\n",
    "\n",
    "\n",
    "\n",
    "The content-based recommendations obtained earlier are stored in the content_based_rec DataFrame. The function combines the content-based recommendations with the input song’s information (track name, artists, album name, release date, and popularity) and its weighted popularity score. This step creates a DataFrame named hybrid_recommendations that includes both the content-based recommendations and the input song’s data.\n",
    "\n",
    "\n",
    "\n",
    "\n",
    "\n",
    "\n",
    "The hybrid_recommendations DataFrame is then sorted in descending order based on the weighted popularity score. This step ensures that the most popular and relevant songs appear at the top of the recommendations. The input song is then removed from the recommendations to avoid suggesting the same song as part of the recommendations.\n",
    "\n",
    "\n",
    "\n",
    "\n",
    "\n",
    "\n",
    "\n",
    "Now here’s how we can test the final function to generate music recommendations:"
   ]
  },
  {
   "cell_type": "code",
   "execution_count": null,
   "metadata": {
    "colab": {
     "base_uri": "https://localhost:8080/"
    },
    "id": "uWBFDfV5b0LK",
    "outputId": "99120cf2-0e33-4a62-a15a-fba7c14191b1"
   },
   "outputs": [
    {
     "name": "stdout",
     "output_type": "stream",
     "text": [
      "Hybrid recommended songs for 'Me Porto Bonito':\n",
      "                                       Track Name  \\\n",
      "2                  Give It To Me - Full Vocal Mix   \n",
      "4                                         Ferrari   \n",
      "0  Private Landing (feat. Justin Bieber & Future)   \n",
      "1                                  Move Your Body   \n",
      "3                     Another Love - Tiësto Remix   \n",
      "\n",
      "                              Artists                      Album Name  \\\n",
      "2                        Matt Sassari  Give It To Me (Full Vocal Mix)   \n",
      "4         James Hype, Miggy Dela Rosa                         Ferrari   \n",
      "0  Don Toliver, Justin Bieber, Future                       Love Sick   \n",
      "1                      Öwnboss, Sevek                  Move Your Body   \n",
      "3                   Tom Odell, Tiësto     Another Love (Tiësto Remix)   \n",
      "\n",
      "  Release Date  Popularity  \n",
      "2   2021-10-22        86.0  \n",
      "4   2022-04-01        86.0  \n",
      "0   2023-02-24        83.0  \n",
      "1   2021-10-29        81.0  \n",
      "3   2022-05-13        78.0  \n"
     ]
    },
    {
     "name": "stderr",
     "output_type": "stream",
     "text": [
      "<ipython-input-38-92098a5b5638>:18: FutureWarning: The frame.append method is deprecated and will be removed from pandas in a future version. Use pandas.concat instead.\n",
      "  hybrid_recommendations = hybrid_recommendations.append({\n"
     ]
    }
   ],
   "source": [
    "# input_song_name = \"I'm Good (Blue)\"\n",
    "input_song_name = \"Me Porto Bonito\"\n",
    "\n",
    "recommendations = hybrid_recommendations(input_song_name, num_recommendations=5)\n",
    "print(f\"Hybrid recommended songs for '{input_song_name}':\")\n",
    "print(recommendations)"
   ]
  },
  {
   "cell_type": "code",
   "execution_count": null,
   "metadata": {
    "id": "5MtLqwhRb0Nu"
   },
   "outputs": [],
   "source": []
  },
  {
   "cell_type": "code",
   "execution_count": null,
   "metadata": {
    "id": "Wch260i-b0QM"
   },
   "outputs": [],
   "source": []
  },
  {
   "cell_type": "code",
   "execution_count": null,
   "metadata": {
    "id": "_N8oKTaTb0TC"
   },
   "outputs": [],
   "source": []
  },
  {
   "cell_type": "code",
   "execution_count": null,
   "metadata": {
    "id": "QDqytZzCb0Wl"
   },
   "outputs": [],
   "source": []
  },
  {
   "cell_type": "code",
   "execution_count": null,
   "metadata": {
    "id": "d24JsIEXYnm_"
   },
   "outputs": [],
   "source": []
  },
  {
   "cell_type": "code",
   "execution_count": null,
   "metadata": {
    "id": "gXCdX9cOYnpv"
   },
   "outputs": [],
   "source": []
  },
  {
   "cell_type": "code",
   "execution_count": null,
   "metadata": {
    "id": "56cbbG_cYnsr"
   },
   "outputs": [],
   "source": []
  },
  {
   "cell_type": "code",
   "execution_count": null,
   "metadata": {
    "id": "gDcdw9tVX10Q"
   },
   "outputs": [],
   "source": []
  }
 ],
 "metadata": {
  "colab": {
   "provenance": []
  },
  "kernelspec": {
   "display_name": "Python 3 (ipykernel)",
   "language": "python",
   "name": "python3"
  },
  "language_info": {
   "codemirror_mode": {
    "name": "ipython",
    "version": 3
   },
   "file_extension": ".py",
   "mimetype": "text/x-python",
   "name": "python",
   "nbconvert_exporter": "python",
   "pygments_lexer": "ipython3",
   "version": "3.10.9"
  }
 },
 "nbformat": 4,
 "nbformat_minor": 1
}
