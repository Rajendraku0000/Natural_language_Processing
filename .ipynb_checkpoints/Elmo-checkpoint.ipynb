{
 "cells": [
  {
   "cell_type": "code",
   "execution_count": null,
   "metadata": {
    "id": "n2X-P_shhIOx"
   },
   "outputs": [],
   "source": [
    "import numpy as np"
   ]
  },
  {
   "cell_type": "code",
   "execution_count": null,
   "metadata": {
    "colab": {
     "base_uri": "https://localhost:8080/"
    },
    "id": "LKj6X8UGhJxc",
    "outputId": "d30e1bde-ce40-4539-8cff-24ec72118f49"
   },
   "outputs": [
    {
     "name": "stderr",
     "output_type": "stream",
     "text": [
      "WARNING:tensorflow:From /usr/local/lib/python3.10/dist-packages/tensorflow/python/util/tf_should_use.py:243: initialize_all_variables (from tensorflow.python.ops.variables) is deprecated and will be removed after 2017-03-02.\n",
      "Instructions for updating:\n",
      "Use `tf.global_variables_initializer` instead.\n"
     ]
    },
    {
     "name": "stdout",
     "output_type": "stream",
     "text": [
      "Word embeddings for word WATCH in first sentence\n",
      "[ 0.1407963  -0.15788528 -0.00950482 ...  0.43006006 -0.52887094\n",
      "  0.06327897]\n",
      "Word embeddings for word WATCH in second sentence\n",
      "[-0.08213336  0.01050337 -0.01454157 ...  0.4870542  -0.54457945\n",
      "  0.52623975]\n"
     ]
    }
   ],
   "source": [
    "# import necessary libraries\n",
    "import tensorflow_hub as hub\n",
    "import tensorflow.compat.v1 as tf\n",
    "tf.disable_eager_execution()\n",
    "\n",
    "# Load pre trained ELMo model\n",
    "elmo = hub.Module(\"https://tfhub.dev/google/elmo/3\", trainable=True)\n",
    "\n",
    "# create an instance of ELMo\n",
    "embeddings = elmo(\n",
    "\t[\n",
    "\t\t\"I love to watch TV\",\n",
    "\t\t\"I am wearing a wrist watch\"\n",
    "\t],\n",
    "\tsignature=\"default\",\n",
    "\tas_dict=True)[\"elmo\"]\n",
    "init = tf.initialize_all_variables()\n",
    "sess = tf.Session()\n",
    "sess.run(init)\n",
    "\n",
    "# Print word embeddings for word WATCH in given two sentences\n",
    "print('Word embeddings for word WATCH in first sentence')\n",
    "print(sess.run(embeddings[0][3]))\n",
    "print('Word embeddings for word WATCH in second sentence')\n",
    "print(sess.run(embeddings[1][5]))\n"
   ]
  },
  {
   "cell_type": "code",
   "execution_count": null,
   "metadata": {
    "id": "ImscatPBhM7H"
   },
   "outputs": [],
   "source": []
  },
  {
   "cell_type": "markdown",
   "metadata": {
    "id": "TTT7ODLVhaK5"
   },
   "source": [
    "The output shows different word embeddings for the same word WATCH used in a different context in different sentences."
   ]
  },
  {
   "cell_type": "code",
   "execution_count": null,
   "metadata": {
    "id": "v9M6m5VYhbFf"
   },
   "outputs": [],
   "source": []
  },
  {
   "cell_type": "markdown",
   "metadata": {
    "id": "_D_NFn12hdRF"
   },
   "source": [
    "Word Embedding using Embeddings from Language Models (ELMo)==>\n",
    "\n",
    "\n",
    "\n",
    "\n",
    "\n",
    "What is word embeddings?\n",
    "It is the representation of words into vectors. These vectors capture important information about the words such that the words sharing the same neighborhood in the vector space represent similar meaning. There are various methods for creating word embeddings, for example, Word2Vec,  Continuous Bag of Words(CBOW), Skip Gram, Glove, Elmo, etc.\n",
    "\n",
    "\n",
    "\n",
    "Embeddings from Language Models(ELMo) :\n",
    "(1). ELMo is an NLP framework developed by AllenNLP. ELMo word vectors are calculated using a two-layer bidirectional language model (biLM). Each layer comprises forward and backward pass.\n",
    "\n",
    "\n",
    "(2). Unlike Glove and Word2Vec, ELMo represents embeddings for a word using the complete sentence containing that word. Therefore, ELMo embeddings are able to capture the context of the word used in the sentence and can generate different embeddings for the same word used in a different context in different sentences.\n",
    "\n",
    "\n",
    "For Example: –\n",
    "I love to watch Television.\n",
    "\n",
    "I am wearing a wristwatch.\n",
    "\n",
    "\n",
    "\n",
    "\n",
    "Here in the 1st sentence watch is used as a verb while in the 2nd sentence watch is a noun. These words having different context in different sentences are called polysemous words.ELMo can successfully handle this nature of words that GLOVE or FastText fail to capture.\n",
    "\n",
    "\n",
    "\n",
    "\n",
    "\n",
    "\n",
    "\n",
    "\n",
    "\n",
    "\n",
    "\n",
    "\n",
    "\n"
   ]
  },
  {
   "cell_type": "code",
   "execution_count": null,
   "metadata": {
    "id": "aoXVjVyFiAUr"
   },
   "outputs": [],
   "source": []
  }
 ],
 "metadata": {
  "colab": {
   "provenance": []
  },
  "kernelspec": {
   "display_name": "Python 3 (ipykernel)",
   "language": "python",
   "name": "python3"
  },
  "language_info": {
   "codemirror_mode": {
    "name": "ipython",
    "version": 3
   },
   "file_extension": ".py",
   "mimetype": "text/x-python",
   "name": "python",
   "nbconvert_exporter": "python",
   "pygments_lexer": "ipython3",
   "version": "3.10.9"
  }
 },
 "nbformat": 4,
 "nbformat_minor": 1
}
